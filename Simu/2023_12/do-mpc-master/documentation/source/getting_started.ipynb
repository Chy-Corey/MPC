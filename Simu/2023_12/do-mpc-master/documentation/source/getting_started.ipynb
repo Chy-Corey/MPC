{
 "cells": [
  {
   "cell_type": "markdown",
   "metadata": {},
   "source": [
    "# Getting started: MPC\n",
    "\n",
    "In this Jupyter Notebook we illustrate the core functionalities of **do-mpc**.\n",
    "\n",
    "**Open an interactive online Jupyter Notebook with this content on Binder:**\n",
    "\n",
    "[![Binder](https://mybinder.org/badge_logo.svg)](https://mybinder.org/v2/gh/do-mpc/do-mpc/master?filepath=%2Fdocumentation%2Fsource%2Fgetting_started.ipynb)\n",
    "\n",
    "We start by importing the required modules, most notably `do_mpc`. "
   ]
  },
  {
   "cell_type": "code",
   "execution_count": 1,
   "metadata": {},
   "outputs": [],
   "source": [
    "import numpy as np\n",
    "\n",
    "# Add do_mpc to path. This is not necessary if it was installed via pip.\n",
    "import sys\n",
    "import os\n",
    "rel_do_mpc_path = os.path.join('..','..')\n",
    "sys.path.append(rel_do_mpc_path)\n",
    "\n",
    "# Import do_mpc package:\n",
    "import do_mpc"
   ]
  },
  {
   "cell_type": "markdown",
   "metadata": {},
   "source": [
    "One of the essential paradigms of **do-mpc** is a modular architecture, where individual building bricks can be used independently our jointly, depending on the application. "
   ]
  },
  {
   "cell_type": "markdown",
   "metadata": {},
   "source": [
    "In the following we will present the configuration, setup and connection between these blocks, starting with the `model`. "
   ]
  },
  {
   "cell_type": "markdown",
   "metadata": {},
   "source": [
    "## Example system"
   ]
  },
  {
   "cell_type": "markdown",
   "metadata": {},
   "source": [
    "First, we introduce a simple system for which we setup **do-mpc**. We want to control a triple mass spring system as depicted below:\n",
    "![triplemassschematic](triple_mass_spring.png)\n",
    "\n",
    "Three rotating discs are connected via springs and we denote their angles as $\\phi_1, \\phi_2, \\phi_3$.\n",
    "The two outermost discs are each connected to a stepper motor with additional springs. The stepper motor angles ($\\phi_{m,1}$ and $\\phi_{m,2}$ are used as inputs to the system. Relevant parameters of the system are the inertia $\\Theta$ of the three discs, the spring constants $c$ as well as the damping factors $d$. \n",
    "\n",
    "The second degree ODE of this system can be written as follows:\n",
    "\n",
    "\\begin{align}\n",
    "\\Theta_1 \\ddot{\\phi}_1 &= -c_1 \\left(\\phi_1 - \\phi_{m,1} \\right) -c_2 \\left(\\phi_1 - \\phi_2 \\right)- d_1 \\dot{\\phi}_1\\\\\n",
    "\\Theta_2 \\ddot{\\phi}_2 &= -c_2 \\left(\\phi_2 - \\phi_{1} \\right) -c_3 \\left(\\phi_2 - \\phi_3 \\right)- d_2 \\dot{\\phi}_2\\\\\n",
    "\\Theta_3 \\ddot{\\phi}_3 &= -c_3 \\left(\\phi_3 - \\phi_2 \\right) -c_4 \\left(\\phi_3 - \\phi_{m,2} \\right)- d_3 \\dot{\\phi}_3\n",
    "\\end{align}"
   ]
  },
  {
   "cell_type": "markdown",
   "metadata": {},
   "source": [
    "The uncontrolled system, starting from a non-zero initial state will osciallate for an extended period of time, as shown below:"
   ]
  },
  {
   "cell_type": "markdown",
   "metadata": {},
   "source": [
    "![SegmentLocal1](anim_disc_3d_uncontrolled.gif \"segment1\")"
   ]
  },
  {
   "cell_type": "markdown",
   "metadata": {},
   "source": [
    "Later, we want to be able to use the motors efficiently to bring the oscillating masses to a rest. It will look something like this:"
   ]
  },
  {
   "cell_type": "markdown",
   "metadata": {},
   "source": [
    "![SegmentLocal2](anim_disc_3d_ctrl_motor.gif \"segment2\")"
   ]
  },
  {
   "cell_type": "markdown",
   "metadata": {},
   "source": [
    "## Creating the model"
   ]
  },
  {
   "cell_type": "markdown",
   "metadata": {},
   "source": [
    "As indicated above, the `model` block is essential for the application of **do-mpc**.\n",
    "In mathmatical terms the model is defined either as a continuous ordinary differential equation (ODE), a differential algebraic equation (DAE) or a discrete equation).\n",
    "\n",
    "In the case of an DAE/ODE we write:\n",
    "\n",
    "\\begin{align}\n",
    "\\frac{\\partial x}{\\partial t} &= f(x,u,z,p)\\\\\n",
    "0 &= g(x,u,z,p)\\\\\n",
    "y &= h(x,u,z,p)\n",
    "\\end{align}\n",
    "\n",
    "We denote $x\\in \\mathbb{R}^{n_x}$ as the states, $u \\in \\mathbb{R}^{n_u}$ as the inputs, $z\\in \\mathbb{R}^{n_z}$ the algebraic states and $p \\in \\mathbb{R}^{n_p}$ as parameters."
   ]
  },
  {
   "cell_type": "markdown",
   "metadata": {},
   "source": [
    "We reformulate the second order ODEs above as the following first order ODEs, be introducing the following states:\n",
    "\n",
    "\\begin{align}\n",
    "x_1 &= \\phi_1\\\\\n",
    "x_2 &= \\phi_2\\\\\n",
    "x_3 &= \\phi_3\\\\\n",
    "x_4 &= \\dot{\\phi}_1\\\\\n",
    "x_5 &= \\dot{\\phi}_2\\\\\n",
    "x_6 &= \\dot{\\phi}_3\\\\\n",
    "\\end{align}\n",
    "\n",
    "and derive the right-hand-side function $f(x,u,z,p)$ as:\n",
    "\n",
    "\\begin{align}\n",
    "\\dot{x}_1 &= x_4\\\\\n",
    "\\dot{x}_2 &= x_5\\\\\n",
    "\\dot{x}_3 &= x_6\\\\\n",
    "\\dot{x}_4 &= -\\frac{c_1}{\\Theta_1} \\left(x_1 - u_1 \\right) -\\frac{c_2}{\\Theta_1} \\left(x1 - x_2 \\right)- \\frac{d_1}{\\Theta_1} x_4\\\\\n",
    "\\dot{x}_5 &= -\\frac{c_2}{\\Theta_2} \\left(x_2 - x_1 \\right) -\\frac{c_3}{\\Theta_2} \\left(x_2 - x_3 \\right)- \\frac{d_2}{\\Theta_2} x_5\\\\\n",
    "\\dot{x}_6 &= -\\frac{c_3}{\\Theta_3} \\left(x_3 - x_2 \\right) -\\frac{c_4}{\\Theta_3} \\left(x_4 - u_2 \\right)- \\frac{d_3}{\\Theta_3} x_6\\\\\n",
    "\\end{align}\n",
    "\n",
    "With this theoretical background we can start configuring the **do-mpc** `model` object."
   ]
  },
  {
   "cell_type": "markdown",
   "metadata": {},
   "source": [
    "First, we need to decide on the model type. For the given example, we are working with a continuous model."
   ]
  },
  {
   "cell_type": "code",
   "execution_count": 2,
   "metadata": {},
   "outputs": [],
   "source": [
    "model_type = 'continuous' # either 'discrete' or 'continuous'\n",
    "model = do_mpc.model.Model(model_type)"
   ]
  },
  {
   "cell_type": "markdown",
   "metadata": {},
   "source": [
    "### Model variables\n",
    "\n",
    "The next step is to define the model variables. It is important to define the variable type, name and optionally shape (default is scalar variable). The following types are available:\n",
    "\n",
    "|Long name  |                short name | Remark         |\n",
    "|-----------|---------------------------|----------------|\n",
    "|``states`` |                  ``_x``   |    Required    |\n",
    "|``inputs`` |                  ``_u``   |    Required    |\n",
    "|``algebraic``  |              ``_z``   |    Optional    |\n",
    "|``parameter``  |              ``_p``   |    Optional    |\n",
    "|``timevarying_parameter`` |   ``_tvp`` |    Optional    |\n"
   ]
  },
  {
   "cell_type": "code",
   "execution_count": 3,
   "metadata": {
    "scrolled": false
   },
   "outputs": [],
   "source": [
    "phi_1 = model.set_variable(var_type='_x', var_name='phi_1', shape=(1,1))\n",
    "phi_2 = model.set_variable(var_type='_x', var_name='phi_2', shape=(1,1))\n",
    "phi_3 = model.set_variable(var_type='_x', var_name='phi_3', shape=(1,1))\n",
    "# Variables can also be vectors:\n",
    "dphi = model.set_variable(var_type='_x', var_name='dphi', shape=(3,1))\n",
    "# Two states for the desired (set) motor position:\n",
    "phi_m_1_set = model.set_variable(var_type='_u', var_name='phi_m_1_set')\n",
    "phi_m_2_set = model.set_variable(var_type='_u', var_name='phi_m_2_set')\n",
    "# Two additional states for the true motor position:\n",
    "phi_1_m = model.set_variable(var_type='_x', var_name='phi_1_m', shape=(1,1))\n",
    "phi_2_m = model.set_variable(var_type='_x', var_name='phi_2_m', shape=(1,1))"
   ]
  },
  {
   "cell_type": "markdown",
   "metadata": {},
   "source": [
    "Note that `model.set_variable()` returns the symbolic variable:"
   ]
  },
  {
   "cell_type": "code",
   "execution_count": 4,
   "metadata": {},
   "outputs": [
    {
     "name": "stdout",
     "output_type": "stream",
     "text": [
      "phi_1=phi_1, with phi_1.shape=(1, 1)\n",
      "dphi=[dphi_0, dphi_1, dphi_2], with dphi.shape=(3, 1)\n"
     ]
    }
   ],
   "source": [
    "print('phi_1={}, with phi_1.shape={}'.format(phi_1, phi_1.shape))\n",
    "print('dphi={}, with dphi.shape={}'.format(dphi, dphi.shape))"
   ]
  },
  {
   "cell_type": "markdown",
   "metadata": {},
   "source": [
    "### Query variables\n",
    "If at any time you need to obtain the model variables, e.g. if you create the model in a different file than additional **do-mpc** modules, you might need to retrieve the defined variables. **do-mpc** facilitates this process with the ``Model`` properties ``x``, ``u``, ``z``, ``p``, ``tvp``, ``y`` and ``aux``:"
   ]
  },
  {
   "cell_type": "code",
   "execution_count": 5,
   "metadata": {},
   "outputs": [
    {
     "data": {
      "text/plain": [
       "<casadi.tools.structure3.ssymStruct at 0x7fa718a27d30>"
      ]
     },
     "execution_count": 5,
     "metadata": {},
     "output_type": "execute_result"
    }
   ],
   "source": [
    "model.x"
   ]
  },
  {
   "cell_type": "markdown",
   "metadata": {},
   "source": [
    "The properties itself a structured symbolic variables, which hold the user-defined variables. \n",
    "These can be accessed with indices:"
   ]
  },
  {
   "cell_type": "code",
   "execution_count": 6,
   "metadata": {},
   "outputs": [
    {
     "data": {
      "text/plain": [
       "SX(phi_1)"
      ]
     },
     "execution_count": 6,
     "metadata": {},
     "output_type": "execute_result"
    }
   ],
   "source": [
    "model.x['phi_1']"
   ]
  },
  {
   "cell_type": "markdown",
   "metadata": {},
   "source": [
    "Note that this is identical to the output of ``model.set_variable`` from above:"
   ]
  },
  {
   "cell_type": "code",
   "execution_count": 7,
   "metadata": {},
   "outputs": [
    {
     "data": {
      "text/plain": [
       "True"
      ]
     },
     "execution_count": 7,
     "metadata": {},
     "output_type": "execute_result"
    }
   ],
   "source": [
    "bool(model.x['phi_1'] == phi_1)"
   ]
  },
  {
   "cell_type": "markdown",
   "metadata": {},
   "source": [
    "Further indices are possible in the case of variables with multiple elements:"
   ]
  },
  {
   "cell_type": "code",
   "execution_count": 8,
   "metadata": {},
   "outputs": [
    {
     "data": {
      "text/plain": [
       "SX(dphi_0)"
      ]
     },
     "execution_count": 8,
     "metadata": {},
     "output_type": "execute_result"
    }
   ],
   "source": [
    "model.x['dphi',0] "
   ]
  },
  {
   "cell_type": "markdown",
   "metadata": {},
   "source": [
    "Note that you can use the following methods:\n",
    "\n",
    "* ``.keys()``\n",
    "* ``.labels()``\n",
    "\n",
    "to get more information from the symbolic structures:"
   ]
  },
  {
   "cell_type": "code",
   "execution_count": 9,
   "metadata": {},
   "outputs": [
    {
     "data": {
      "text/plain": [
       "['phi_1', 'phi_2', 'phi_3', 'dphi', 'phi_1_m', 'phi_2_m']"
      ]
     },
     "execution_count": 9,
     "metadata": {},
     "output_type": "execute_result"
    }
   ],
   "source": [
    "model.x.keys()"
   ]
  },
  {
   "cell_type": "code",
   "execution_count": 10,
   "metadata": {},
   "outputs": [
    {
     "data": {
      "text/plain": [
       "['[phi_1,0]',\n",
       " '[phi_2,0]',\n",
       " '[phi_3,0]',\n",
       " '[dphi,0]',\n",
       " '[dphi,1]',\n",
       " '[dphi,2]',\n",
       " '[phi_1_m,0]',\n",
       " '[phi_2_m,0]']"
      ]
     },
     "execution_count": 10,
     "metadata": {},
     "output_type": "execute_result"
    }
   ],
   "source": [
    "model.x.labels()"
   ]
  },
  {
   "cell_type": "markdown",
   "metadata": {},
   "source": [
    "### Model parameters\n",
    "\n",
    "Next we **define parameters**. Known values can and should be hardcoded but with robust MPC in mind, we define uncertain parameters explictly. We assume that the inertia is such an uncertain parameter and hardcode the spring constant and friction coefficient."
   ]
  },
  {
   "cell_type": "code",
   "execution_count": 11,
   "metadata": {},
   "outputs": [],
   "source": [
    "# As shown in the table above, we can use Long names or short names for the variable type.\n",
    "Theta_1 = model.set_variable('parameter', 'Theta_1') \n",
    "Theta_2 = model.set_variable('parameter', 'Theta_2')\n",
    "Theta_3 = model.set_variable('parameter', 'Theta_3')\n",
    "\n",
    "c = np.array([2.697,  2.66,  3.05, 2.86])*1e-3\n",
    "d = np.array([6.78,  8.01,  8.82])*1e-5"
   ]
  },
  {
   "cell_type": "markdown",
   "metadata": {},
   "source": [
    "### Right-hand-side equation\n",
    "Finally, we set the right-hand-side of the model by calling `model.set_rhs(var_name, expr)` with the `var_name` from the state variables defined above and an expression in terms of $x, u, z, p$. "
   ]
  },
  {
   "cell_type": "code",
   "execution_count": 12,
   "metadata": {},
   "outputs": [],
   "source": [
    "model.set_rhs('phi_1', dphi[0])\n",
    "model.set_rhs('phi_2', dphi[1])\n",
    "model.set_rhs('phi_3', dphi[2])"
   ]
  },
  {
   "cell_type": "markdown",
   "metadata": {},
   "source": [
    "For the vector valued state `dphi` we need to concatenate symbolic expressions. We import the symbolic library CasADi: "
   ]
  },
  {
   "cell_type": "code",
   "execution_count": 13,
   "metadata": {},
   "outputs": [],
   "source": [
    "from casadi import *"
   ]
  },
  {
   "cell_type": "code",
   "execution_count": 14,
   "metadata": {},
   "outputs": [],
   "source": [
    "dphi_next = vertcat(\n",
    "    -c[0]/Theta_1*(phi_1-phi_1_m)-c[1]/Theta_1*(phi_1-phi_2)-d[0]/Theta_1*dphi[0],\n",
    "    -c[1]/Theta_2*(phi_2-phi_1)-c[2]/Theta_2*(phi_2-phi_3)-d[1]/Theta_2*dphi[1],\n",
    "    -c[2]/Theta_3*(phi_3-phi_2)-c[3]/Theta_3*(phi_3-phi_2_m)-d[2]/Theta_3*dphi[2],\n",
    ")\n",
    "\n",
    "model.set_rhs('dphi', dphi_next)"
   ]
  },
  {
   "cell_type": "code",
   "execution_count": 15,
   "metadata": {
    "scrolled": true
   },
   "outputs": [],
   "source": [
    "tau = 1e-2 \n",
    "model.set_rhs('phi_1_m', 1/tau*(phi_m_1_set - phi_1_m))\n",
    "model.set_rhs('phi_2_m', 1/tau*(phi_m_2_set - phi_2_m))"
   ]
  },
  {
   "cell_type": "markdown",
   "metadata": {},
   "source": [
    "The model setup is completed by calling `model.setup()`:"
   ]
  },
  {
   "cell_type": "code",
   "execution_count": 16,
   "metadata": {},
   "outputs": [],
   "source": [
    "model.setup()"
   ]
  },
  {
   "cell_type": "markdown",
   "metadata": {},
   "source": [
    "After calling `model.setup()` we cannot define further variables etc."
   ]
  },
  {
   "cell_type": "markdown",
   "metadata": {},
   "source": [
    "## Configuring the MPC controller\n",
    "With the configured and setup model we can now create the optimizer for model predictive control (MPC). We start by creating the object (with the `model` as the only input)"
   ]
  },
  {
   "cell_type": "code",
   "execution_count": 17,
   "metadata": {},
   "outputs": [],
   "source": [
    "mpc = do_mpc.controller.MPC(model)"
   ]
  },
  {
   "cell_type": "markdown",
   "metadata": {},
   "source": [
    "### Optimizer parameters\n",
    "\n",
    "Next, we need to parametrize the `optimizer`. Please see the API documentation for `optimizer.set_param()` for a full description of available parameters and their meaning. Many parameters already have suggested default values. Most importantly, we need to set `n_horizon` and `t_step`. We also choose `n_robust=1` for this example, which would default to `0`.\n",
    "\n",
    "Note that by default the continuous system is discretized with `collocation`."
   ]
  },
  {
   "cell_type": "code",
   "execution_count": 18,
   "metadata": {},
   "outputs": [],
   "source": [
    "setup_mpc = {\n",
    "    'n_horizon': 20,\n",
    "    't_step': 0.1,\n",
    "    'n_robust': 1,\n",
    "    'store_full_solution': True,\n",
    "}\n",
    "mpc.set_param(**setup_mpc)"
   ]
  },
  {
   "cell_type": "markdown",
   "metadata": {},
   "source": [
    "### Objective function\n",
    "The MPC formulation is at its core an optimization problem for which we need to define an objective function:\n",
    "\n",
    "$$\n",
    "C = \\sum_{k=0}^{n-1}\\left( \\underbrace{l(x_k,u_k,z_k,p)}_{\\text{lagrange term}} \n",
    "+ \\underbrace{\\Delta u_k^T R \\Delta u_k}_{\\text{r-term}}\\right) \n",
    "+ \\underbrace{m(x_n)}_{\\text{meyer term}} \n",
    "$$\n",
    "\n",
    "We need to define the meyer term (`mterm`) and lagrange term (`lterm`). For the given example we set:\n",
    "\n",
    "$$\n",
    "l(x_k,u_k,z_k,p) = \\phi_1^2+\\phi_2^2+\\phi_3^2\\\\\n",
    "m(x_n) = \\phi_1^2+\\phi_2^2+\\phi_3^2\n",
    "$$"
   ]
  },
  {
   "cell_type": "code",
   "execution_count": 19,
   "metadata": {},
   "outputs": [],
   "source": [
    "mterm = phi_1**2 + phi_2**2 + phi_3**2\n",
    "lterm = phi_1**2 + phi_2**2 + phi_3**2\n",
    "\n",
    "mpc.set_objective(mterm=mterm, lterm=lterm)"
   ]
  },
  {
   "cell_type": "markdown",
   "metadata": {},
   "source": [
    "Part of the objective function is also the **penality for the control inputs**. This penalty can often be used to *smoothen* the obtained optimal solution and is an important tuning parameter. We add a quadratic penalty on changes:\n",
    "\n",
    "$$\n",
    "\\Delta u_k = u_k - u_{k-1}\n",
    "$$\n",
    "\n",
    "and automatically supply the solver with the previous solution of $u_{k-1}$ for $\\Delta u_0$.\n",
    "\n",
    "The user can set the tuning factor for these quadratic terms like this:"
   ]
  },
  {
   "cell_type": "code",
   "execution_count": 20,
   "metadata": {},
   "outputs": [],
   "source": [
    "mpc.set_rterm(\n",
    "    phi_m_1_set=1e-2,\n",
    "    phi_m_2_set=1e-2\n",
    ")"
   ]
  },
  {
   "cell_type": "markdown",
   "metadata": {},
   "source": [
    "where the keyword arguments refer to the previously defined input names. Note that in the notation above ($\\Delta u_k^T R \\Delta u_k$), this results in setting the diagonal elements of $R$."
   ]
  },
  {
   "cell_type": "markdown",
   "metadata": {},
   "source": [
    "### Constraints\n",
    "It is an important feature of MPC to be able to set constraints on inputs and states. In **do-mpc** these constraints are set like this:"
   ]
  },
  {
   "cell_type": "code",
   "execution_count": 21,
   "metadata": {},
   "outputs": [],
   "source": [
    "# Lower bounds on states:\n",
    "mpc.bounds['lower','_x', 'phi_1'] = -2*np.pi\n",
    "mpc.bounds['lower','_x', 'phi_2'] = -2*np.pi\n",
    "mpc.bounds['lower','_x', 'phi_3'] = -2*np.pi\n",
    "# Upper bounds on states\n",
    "mpc.bounds['upper','_x', 'phi_1'] = 2*np.pi\n",
    "mpc.bounds['upper','_x', 'phi_2'] = 2*np.pi\n",
    "mpc.bounds['upper','_x', 'phi_3'] = 2*np.pi\n",
    "\n",
    "# Lower bounds on inputs:\n",
    "mpc.bounds['lower','_u', 'phi_m_1_set'] = -2*np.pi\n",
    "mpc.bounds['lower','_u', 'phi_m_2_set'] = -2*np.pi\n",
    "# Lower bounds on inputs:\n",
    "mpc.bounds['upper','_u', 'phi_m_1_set'] = 2*np.pi\n",
    "mpc.bounds['upper','_u', 'phi_m_2_set'] = 2*np.pi"
   ]
  },
  {
   "cell_type": "markdown",
   "metadata": {},
   "source": [
    "### Scaling\n",
    "Scaling is an important feature if the OCP is poorly conditioned, e.g. different states have significantly different magnitudes. In that case the unscaled problem might not lead to a (desired) solution.\n",
    "Scaling factors can be introduced for all states, inputs and algebraic variables and the objective is to scale them to roughly the same order of magnitude. For the given problem, this is not necessary but we briefly show the syntax (note that this step can also be skipped)."
   ]
  },
  {
   "cell_type": "code",
   "execution_count": 22,
   "metadata": {},
   "outputs": [],
   "source": [
    "mpc.scaling['_x', 'phi_1'] = 2\n",
    "mpc.scaling['_x', 'phi_2'] = 2\n",
    "mpc.scaling['_x', 'phi_3'] = 2"
   ]
  },
  {
   "cell_type": "markdown",
   "metadata": {},
   "source": [
    "### Uncertain Parameters\n",
    "An important feature of **do-mpc** is scenario based robust MPC. Instead of predicting and controlling a single future trajectory, we investigate multiple possible trajectories depending on different uncertain parameters. These parameters were previously defined in the model (the mass inertia). Now we must provide the optimizer with different possible scenarios. \n",
    "\n",
    "This can be done in the following way:"
   ]
  },
  {
   "cell_type": "code",
   "execution_count": 23,
   "metadata": {},
   "outputs": [],
   "source": [
    "inertia_mass_1 = 2.25*1e-4*np.array([1., 0.9, 1.1])\n",
    "inertia_mass_2 = 2.25*1e-4*np.array([1., 0.9, 1.1])\n",
    "inertia_mass_3 = 2.25*1e-4*np.array([1.])\n",
    "\n",
    "mpc.set_uncertainty_values(\n",
    "    Theta_1 = inertia_mass_1, \n",
    "    Theta_2 = inertia_mass_2, \n",
    "    Theta_3 = inertia_mass_3\n",
    ")"
   ]
  },
  {
   "cell_type": "markdown",
   "metadata": {},
   "source": [
    "We provide a number of keyword arguments to the method `optimizer.set_uncertain_parameter()`. For each referenced parameter the value is a `numpy.ndarray` with a selection of possible values. The first value is the nominal case, where further values will lead to an increasing number of scenarios. Since we investigate each combination of possible parameters, the number of scenarios is growing rapidly. For our example, we are therefore only treating the inertia of mass 1 and 2 as uncertain and supply only one possible value for the mass of inertia 3."
   ]
  },
  {
   "cell_type": "markdown",
   "metadata": {},
   "source": [
    "### Setup\n",
    "The last step of configuring the optimizer is to call `optimizer.setup`, which finalizes the setup and creates the optimization problem. Only now can we use the optimizer to obtain the control input."
   ]
  },
  {
   "cell_type": "code",
   "execution_count": 24,
   "metadata": {},
   "outputs": [],
   "source": [
    "mpc.setup()"
   ]
  },
  {
   "cell_type": "markdown",
   "metadata": {},
   "source": [
    "## Configuring the Simulator\n",
    "In many cases a developed control approach is first tested on a simulated system. **do-mpc** responds to this need with the `do_mpc.simulator` class. The `simulator` uses state-of-the-art DAE solvers, e.g. Sundials [CVODE](https://computing.llnl.gov/projects/sundials/cvode) to solve the DAE equations defined in the supplied `do_mpc.model`. This will often be the same model as defined for the `optimizer` but it is also possible to use a more complex model of the same system.\n",
    "\n",
    "In this section we demonstrate how to setup the `simulator` class for the given example. We initilize the class with the previously defined `model`:"
   ]
  },
  {
   "cell_type": "code",
   "execution_count": 25,
   "metadata": {},
   "outputs": [],
   "source": [
    "simulator = do_mpc.simulator.Simulator(model)"
   ]
  },
  {
   "cell_type": "markdown",
   "metadata": {},
   "source": [
    "### Simulator parameters\n",
    "\n",
    "Next, we need to parametrize the `simulator`. Please see the API documentation for `simulator.set_param()` for a full description of available parameters and their meaning. Many parameters already have suggested default values. Most importantly, we need to set `t_step`. We choose the same value as for the `optimizer`."
   ]
  },
  {
   "cell_type": "code",
   "execution_count": 26,
   "metadata": {},
   "outputs": [],
   "source": [
    "# Instead of supplying a dict with the splat operator (**), as with the optimizer.set_param(),\n",
    "# we can also use keywords (and call the method multiple times, if necessary):\n",
    "simulator.set_param(t_step = 0.1)"
   ]
  },
  {
   "cell_type": "markdown",
   "metadata": {},
   "source": [
    "### Uncertain parameters\n",
    "In the `model` we have defined the inertia of the masses as parameters, for which we have chosen multiple scenarios in the `optimizer`. The `simulator` is now parametrized to simulate with the \"true\" values at each timestep. In the most general case, these values can change, which is why we need to supply a function that can be evaluted at each time to obtain the current values. \n",
    "**do-mpc** requires this function to have a specific return structure which we obtain first by calling:"
   ]
  },
  {
   "cell_type": "code",
   "execution_count": 27,
   "metadata": {},
   "outputs": [],
   "source": [
    "p_template = simulator.get_p_template()"
   ]
  },
  {
   "cell_type": "markdown",
   "metadata": {},
   "source": [
    "This object is a CasADi structure:"
   ]
  },
  {
   "cell_type": "code",
   "execution_count": 28,
   "metadata": {},
   "outputs": [
    {
     "data": {
      "text/plain": [
       "casadi.tools.structure3.DMStruct"
      ]
     },
     "execution_count": 28,
     "metadata": {},
     "output_type": "execute_result"
    }
   ],
   "source": [
    "type(p_template)"
   ]
  },
  {
   "cell_type": "markdown",
   "metadata": {},
   "source": [
    "which can be indexed with the following keys:"
   ]
  },
  {
   "cell_type": "code",
   "execution_count": 29,
   "metadata": {},
   "outputs": [
    {
     "data": {
      "text/plain": [
       "['default', 'Theta_1', 'Theta_2', 'Theta_3']"
      ]
     },
     "execution_count": 29,
     "metadata": {},
     "output_type": "execute_result"
    }
   ],
   "source": [
    "p_template.keys()"
   ]
  },
  {
   "cell_type": "markdown",
   "metadata": {},
   "source": [
    "We need to now write a function which returns this structure with the desired numerical values. For our simple case:"
   ]
  },
  {
   "cell_type": "code",
   "execution_count": 30,
   "metadata": {},
   "outputs": [],
   "source": [
    "def p_fun(t_now):\n",
    "    p_template['Theta_1'] = 2.25e-4\n",
    "    p_template['Theta_2'] = 2.25e-4\n",
    "    p_template['Theta_3'] = 2.25e-4\n",
    "    return p_template"
   ]
  },
  {
   "cell_type": "markdown",
   "metadata": {},
   "source": [
    "This function is now supplied to the `simulator` in the following way:"
   ]
  },
  {
   "cell_type": "code",
   "execution_count": 31,
   "metadata": {},
   "outputs": [],
   "source": [
    "simulator.set_p_fun(p_fun)"
   ]
  },
  {
   "cell_type": "markdown",
   "metadata": {},
   "source": [
    "### Setup\n",
    "Similarly to the `optimizer` we need to call `simulator.setup()` to finalize the setup of the simulator."
   ]
  },
  {
   "cell_type": "code",
   "execution_count": 32,
   "metadata": {},
   "outputs": [],
   "source": [
    "simulator.setup()"
   ]
  },
  {
   "cell_type": "markdown",
   "metadata": {},
   "source": [
    "## Creating the control loop\n",
    "In theory, we could now also create an estimator but for this concise example we just assume direct state-feedback. This means we are now ready to setup and run the control loop. \n",
    "The control loop consists of running the optimizer with the current state ($x_0$) to obtain the current control input ($u_0$) and then running the simulator with the current control input ($u_0$) to obtain the next state.\n",
    "\n",
    "As discussed before, we setup a controller for regulating a triple-mass-spring system. To show some interesting control action we choose an arbitrary initial state $x_0\\neq 0$:"
   ]
  },
  {
   "cell_type": "code",
   "execution_count": 33,
   "metadata": {},
   "outputs": [],
   "source": [
    "x0 = np.pi*np.array([1, 1, -1.5, 1, -1, 1, 0, 0]).reshape(-1,1)"
   ]
  },
  {
   "cell_type": "markdown",
   "metadata": {},
   "source": [
    "and use the `x0` property to set the initial state."
   ]
  },
  {
   "cell_type": "code",
   "execution_count": 34,
   "metadata": {},
   "outputs": [],
   "source": [
    "simulator.x0 = x0\n",
    "mpc.x0 = x0"
   ]
  },
  {
   "cell_type": "markdown",
   "metadata": {},
   "source": [
    "While we are able to set just a regular numpy array, this populates the state structure which was inherited from the model:"
   ]
  },
  {
   "cell_type": "code",
   "execution_count": 35,
   "metadata": {},
   "outputs": [
    {
     "data": {
      "text/plain": [
       "<casadi.tools.structure3.DMStruct at 0x7fa71b5ee390>"
      ]
     },
     "execution_count": 35,
     "metadata": {},
     "output_type": "execute_result"
    }
   ],
   "source": [
    "mpc.x0"
   ]
  },
  {
   "cell_type": "markdown",
   "metadata": {},
   "source": [
    "We can thus easily obtain the value of particular states by calling:"
   ]
  },
  {
   "cell_type": "code",
   "execution_count": 36,
   "metadata": {},
   "outputs": [
    {
     "data": {
      "text/plain": [
       "DM(3.14159)"
      ]
     },
     "execution_count": 36,
     "metadata": {},
     "output_type": "execute_result"
    }
   ],
   "source": [
    "mpc.x0['phi_1']"
   ]
  },
  {
   "cell_type": "markdown",
   "metadata": {},
   "source": [
    "Note that the properties `x0` (as well as `u0`, `z0` and `t0`) always display the values of the current variables in the class."
   ]
  },
  {
   "cell_type": "markdown",
   "metadata": {},
   "source": [
    "To set the initial guess of the MPC optimization problem we call:"
   ]
  },
  {
   "cell_type": "code",
   "execution_count": 37,
   "metadata": {},
   "outputs": [],
   "source": [
    "mpc.set_initial_guess()"
   ]
  },
  {
   "cell_type": "markdown",
   "metadata": {},
   "source": [
    "The chosen initial guess is based on `x0`, `z0` and  `u0` which are set for each element of the MPC sequence."
   ]
  },
  {
   "cell_type": "markdown",
   "metadata": {},
   "source": [
    "### Setting up the Graphic\n",
    "To investigate the controller performance **AND** the MPC predictions, we are using the **do-mpc** `graphics` module. This versatile tool allows us to conveniently configure a user-defined plot based on Matplotlib and visualize the results stored in the `mpc.data`, `simulator.data` (and if applicable `estimator.data`) objects. \n",
    "\n",
    "We start by importing matplotlib:"
   ]
  },
  {
   "cell_type": "code",
   "execution_count": 38,
   "metadata": {},
   "outputs": [],
   "source": [
    "import matplotlib.pyplot as plt\n",
    "import matplotlib as mpl\n",
    "# Customizing Matplotlib:\n",
    "mpl.rcParams['font.size'] = 18\n",
    "mpl.rcParams['lines.linewidth'] = 3\n",
    "mpl.rcParams['axes.grid'] = True"
   ]
  },
  {
   "cell_type": "markdown",
   "metadata": {},
   "source": [
    "And initializing the `graphics module` with the data object of interest. \n",
    "In this particular example, we want to visualize both the `mpc.data` as well as the `simulator.data`."
   ]
  },
  {
   "cell_type": "code",
   "execution_count": 39,
   "metadata": {},
   "outputs": [],
   "source": [
    "mpc_graphics = do_mpc.graphics.Graphics(mpc.data)\n",
    "sim_graphics = do_mpc.graphics.Graphics(simulator.data)"
   ]
  },
  {
   "cell_type": "markdown",
   "metadata": {},
   "source": [
    "Next, we create a `figure` and obtain its `axis` object. Matplotlib offers multiple alternative ways to obtain an `axis` object, e.g. [subplots](https://matplotlib.org/3.1.1/api/_as_gen/matplotlib.pyplot.subplots.html), [subplot2grid](https://matplotlib.org/3.1.1/api/_as_gen/matplotlib.pyplot.subplot2grid.html), or simply [gca](https://matplotlib.org/3.1.1/api/_as_gen/matplotlib.pyplot.gca.html). We use `subplots`:"
   ]
  },
  {
   "cell_type": "code",
   "execution_count": 40,
   "metadata": {},
   "outputs": [],
   "source": [
    "%%capture \n",
    "# We just want to create the plot and not show it right now. This \"inline magic\" supresses the output.\n",
    "fig, ax = plt.subplots(2, sharex=True, figsize=(16,9))\n",
    "fig.align_ylabels()"
   ]
  },
  {
   "cell_type": "markdown",
   "metadata": {},
   "source": [
    "Most important API element for setting up the `graphics` module is `graphics.add_line`, which mimics the API of `model.add_variable`, except that we also need to pass an `axis`. \n",
    "\n",
    "We want to show both the simulator and MPC results on the same axis, which is why we configure both of them identically:"
   ]
  },
  {
   "cell_type": "code",
   "execution_count": 41,
   "metadata": {
    "scrolled": true
   },
   "outputs": [],
   "source": [
    "%%capture\n",
    "for g in [sim_graphics, mpc_graphics]:\n",
    "    # Plot the angle positions (phi_1, phi_2, phi_2) on the first axis:\n",
    "    g.add_line(var_type='_x', var_name='phi_1', axis=ax[0])\n",
    "    g.add_line(var_type='_x', var_name='phi_2', axis=ax[0])\n",
    "    g.add_line(var_type='_x', var_name='phi_3', axis=ax[0])\n",
    "\n",
    "    # Plot the set motor positions (phi_m_1_set, phi_m_2_set) on the second axis:\n",
    "    g.add_line(var_type='_u', var_name='phi_m_1_set', axis=ax[1])\n",
    "    g.add_line(var_type='_u', var_name='phi_m_2_set', axis=ax[1])\n",
    "\n",
    "\n",
    "ax[0].set_ylabel('angle position [rad]')\n",
    "ax[1].set_ylabel('motor angle [rad]')\n",
    "ax[1].set_xlabel('time [s]')"
   ]
  },
  {
   "cell_type": "markdown",
   "metadata": {},
   "source": [
    "### Running the simulator\n",
    "We start investigating the **do-mpc** simulator and the `graphics` package by simulating the autonomous system without control inputs ($u = 0$). This can be done as follows:"
   ]
  },
  {
   "cell_type": "code",
   "execution_count": 42,
   "metadata": {},
   "outputs": [],
   "source": [
    "u0 = np.zeros((2,1))\n",
    "for i in range(200):\n",
    "    simulator.make_step(u0)"
   ]
  },
  {
   "cell_type": "markdown",
   "metadata": {},
   "source": [
    "We can visualize the resulting trajectory with the pre-defined graphic:"
   ]
  },
  {
   "cell_type": "code",
   "execution_count": 43,
   "metadata": {},
   "outputs": [
    {
     "data": {
      "image/png": "[encoded data removed]",
      "text/plain": [
       "<Figure size 1152x648 with 2 Axes>"
      ]
     },
     "execution_count": 43,
     "metadata": {},
     "output_type": "execute_result"
    }
   ],
   "source": [
    "sim_graphics.plot_results()\n",
    "# Reset the limits on all axes in graphic to show the data.\n",
    "sim_graphics.reset_axes() \n",
    "# Show the figure:\n",
    "fig"
   ]
  },
  {
   "cell_type": "markdown",
   "metadata": {},
   "source": [
    "As desired, the motor angle (input) is constant at zero and the oscillating masses slowly come to a rest. Our control goal is to significantly shorten the time until the discs are stationary.\n",
    "\n",
    "Remember the animation you saw above, of the uncontrolled system? This is where the data came from."
   ]
  },
  {
   "cell_type": "markdown",
   "metadata": {},
   "source": [
    "### Running the optimizer\n",
    "To obtain the current control input we call `optimizer.make_step(x0)` with the current state ($x_0$):"
   ]
  },
  {
   "cell_type": "code",
   "execution_count": 44,
   "metadata": {},
   "outputs": [
    {
     "name": "stdout",
     "output_type": "stream",
     "text": [
      "\n",
      "******************************************************************************\n",
      "This program contains Ipopt, a library for large-scale nonlinear optimization.\n",
      " Ipopt is released as open source code under the Eclipse Public License (EPL).\n",
      "         For more information visit http://projects.coin-or.org/Ipopt\n",
      "******************************************************************************\n",
      "\n",
      "This is Ipopt version 3.12.3, running with linear solver mumps.\n",
      "NOTE: Other linear solvers might be more efficient (see Ipopt documentation).\n",
      "\n",
      "Number of nonzeros in equality constraint Jacobian...:    19448\n",
      "Number of nonzeros in inequality constraint Jacobian.:        0\n",
      "Number of nonzeros in Lagrangian Hessian.............:     1229\n",
      "\n",
      "Total number of variables............................:     6408\n",
      "                     variables with only lower bounds:        0\n",
      "                variables with lower and upper bounds:     2435\n",
      "                     variables with only upper bounds:        0\n",
      "Total number of equality constraints.................:     5768\n",
      "Total number of inequality constraints...............:        0\n",
      "        inequality constraints with only lower bounds:        0\n",
      "   inequality constraints with lower and upper bounds:        0\n",
      "        inequality constraints with only upper bounds:        0\n",
      "\n",
      "iter    objective    inf_pr   inf_du lg(mu)  ||d||  lg(rg) alpha_du alpha_pr  ls\n",
      "   0  8.8086219e+02 1.65e+01 1.07e-01  -1.0 0.00e+00    -  0.00e+00 0.00e+00   0\n",
      "   1  2.8794996e+02 2.32e+00 1.68e+00  -1.0 1.38e+01  -4.0 2.82e-01 8.60e-01f  1\n",
      "   2  2.0017562e+02 1.87e-14 3.95e+00  -1.0 3.56e+00  -4.5 1.96e-01 1.00e+00f  1\n",
      "   3  1.6039802e+02 1.48e-14 3.82e-01  -1.0 3.43e+00  -5.0 5.14e-01 1.00e+00f  1\n",
      "   4  1.3046012e+02 2.04e-14 7.36e-02  -1.0 2.94e+00  -5.4 7.75e-01 1.00e+00f  1\n",
      "   5  1.1452477e+02 2.04e-14 1.94e-02  -1.7 2.62e+00  -5.9 8.44e-01 1.00e+00f  1\n",
      "   6  1.1247422e+02 1.87e-14 7.23e-03  -2.5 9.17e-01  -6.4 8.27e-01 1.00e+00f  1\n",
      "   7  1.1235000e+02 1.69e-14 4.88e-08  -2.5 3.56e-01  -6.9 1.00e+00 1.00e+00f  1\n",
      "   8  1.1230585e+02 1.87e-14 8.91e-09  -3.8 1.95e-01  -7.3 1.00e+00 1.00e+00f  1\n",
      "   9  1.1229857e+02 1.83e-14 8.02e-10  -5.7 5.26e-02  -7.8 1.00e+00 1.00e+00f  1\n",
      "iter    objective    inf_pr   inf_du lg(mu)  ||d||  lg(rg) alpha_du alpha_pr  ls\n",
      "  10  1.1229833e+02 1.51e-14 6.08e-09  -5.7 1.20e+00  -8.3 1.00e+00 1.00e+00f  1\n",
      "  11  1.1229831e+02 1.69e-14 3.25e-13  -8.6 1.92e-04  -8.8 1.00e+00 1.00e+00f  1\n",
      "\n",
      "Number of Iterations....: 11\n",
      "\n",
      "                                   (scaled)                 (unscaled)\n",
      "Objective...............:   1.1229831239969913e+02    1.1229831239969913e+02\n",
      "Dual infeasibility......:   3.2479227640713759e-13    3.2479227640713759e-13\n",
      "Constraint violation....:   1.6875389974302379e-14    1.6875389974302379e-14\n",
      "Complementarity.........:   4.2481089749952700e-09    4.2481089749952700e-09\n",
      "Overall NLP error.......:   4.2481089749952700e-09    4.2481089749952700e-09\n",
      "\n",
      "\n",
      "Number of objective function evaluations             = 12\n",
      "Number of objective gradient evaluations             = 12\n",
      "Number of equality constraint evaluations            = 12\n",
      "Number of inequality constraint evaluations          = 0\n",
      "Number of equality constraint Jacobian evaluations   = 12\n",
      "Number of inequality constraint Jacobian evaluations = 0\n",
      "Number of Lagrangian Hessian evaluations             = 11\n",
      "Total CPU secs in IPOPT (w/o function evaluations)   =      0.239\n",
      "Total CPU secs in NLP function evaluations           =      0.006\n",
      "\n",
      "EXIT: Optimal Solution Found.\n",
      "           S  :   t_proc      (avg)   t_wall      (avg)    n_eval\n",
      "       nlp_f  | 149.00us ( 12.42us) 145.00us ( 12.08us)        12\n",
      "       nlp_g  |   2.16ms (180.17us)   1.83ms (152.33us)        12\n",
      "    nlp_grad  | 377.00us (377.00us) 377.00us (377.00us)         1\n",
      "  nlp_grad_f  | 504.00us ( 38.77us) 525.00us ( 40.38us)        13\n",
      "  nlp_hess_l  | 138.00us ( 12.55us) 137.00us ( 12.45us)        11\n",
      "   nlp_jac_g  |   3.27ms (251.31us)   3.26ms (251.00us)        13\n",
      "       total  | 257.31ms (257.31ms) 256.06ms (256.06ms)         1\n"
     ]
    }
   ],
   "source": [
    "u0 = mpc.make_step(x0)"
   ]
  },
  {
   "cell_type": "markdown",
   "metadata": {},
   "source": [
    "Note that we obtained the output from IPOPT regarding the given optimal control problem (OCP). Most importantly we obtained `Optimal Solution Found`.\n",
    "\n",
    "We can also visualize the predicted trajectories with the configure `graphics` instance. First we clear the existing lines from the simulator by calling:"
   ]
  },
  {
   "cell_type": "code",
   "execution_count": 45,
   "metadata": {},
   "outputs": [],
   "source": [
    "sim_graphics.clear()"
   ]
  },
  {
   "cell_type": "markdown",
   "metadata": {},
   "source": [
    "And finally, we can call `plot_predictions` to obtain:"
   ]
  },
  {
   "cell_type": "code",
   "execution_count": 46,
   "metadata": {
    "scrolled": false
   },
   "outputs": [
    {
     "data": {
      "image/png": "[encoded data removed]",
      "text/plain": [
       "<Figure size 1152x648 with 2 Axes>"
      ]
     },
     "execution_count": 46,
     "metadata": {},
     "output_type": "execute_result"
    }
   ],
   "source": [
    "mpc_graphics.plot_predictions()\n",
    "mpc_graphics.reset_axes()\n",
    "# Show the figure:\n",
    "fig"
   ]
  },
  {
   "cell_type": "markdown",
   "metadata": {},
   "source": [
    "We are seeing the predicted trajectories for the states and the optimal control inputs. Note that we are seeing different scenarios for the configured uncertain inertia of the three masses. \n",
    "\n",
    "We can also see that the solution is considering the defined upper and lower bounds. This is especially true for the inputs."
   ]
  },
  {
   "cell_type": "markdown",
   "metadata": {},
   "source": [
    "### Changing the line appearance\n",
    "Before we continue, we should probably improve the visualization a bit. We can easily obtain all line objects from the graphics module by using the ``result_lines`` and ``pred_lines`` properties:"
   ]
  },
  {
   "cell_type": "code",
   "execution_count": 47,
   "metadata": {},
   "outputs": [
    {
     "data": {
      "text/plain": [
       "<do_mpc.tools.structure.Structure at 0x7fa71b5ee860>"
      ]
     },
     "execution_count": 47,
     "metadata": {},
     "output_type": "execute_result"
    }
   ],
   "source": [
    "mpc_graphics.pred_lines"
   ]
  },
  {
   "cell_type": "markdown",
   "metadata": {},
   "source": [
    "We obtain a structure that can be queried conveniently as follows: "
   ]
  },
  {
   "cell_type": "code",
   "execution_count": 48,
   "metadata": {},
   "outputs": [
    {
     "data": {
      "text/plain": [
       "[<matplotlib.lines.Line2D at 0x7fa71c445828>,\n",
       " <matplotlib.lines.Line2D at 0x7fa71c6e7898>,\n",
       " <matplotlib.lines.Line2D at 0x7fa71c6e7978>,\n",
       " <matplotlib.lines.Line2D at 0x7fa71c7023c8>,\n",
       " <matplotlib.lines.Line2D at 0x7fa71c7022b0>,\n",
       " <matplotlib.lines.Line2D at 0x7fa71c702630>,\n",
       " <matplotlib.lines.Line2D at 0x7fa71c702978>,\n",
       " <matplotlib.lines.Line2D at 0x7fa71c702d30>,\n",
       " <matplotlib.lines.Line2D at 0x7fa71c702c88>]"
      ]
     },
     "execution_count": 48,
     "metadata": {},
     "output_type": "execute_result"
    }
   ],
   "source": [
    "mpc_graphics.pred_lines['_x', 'phi_1']"
   ]
  },
  {
   "cell_type": "markdown",
   "metadata": {},
   "source": [
    "We obtain all lines for our first state. To change the color we can simply:"
   ]
  },
  {
   "cell_type": "code",
   "execution_count": 49,
   "metadata": {},
   "outputs": [],
   "source": [
    "# Change the color for the three states:\n",
    "for line_i in mpc_graphics.pred_lines['_x', 'phi_1']: line_i.set_color('#1f77b4') # blue\n",
    "for line_i in mpc_graphics.pred_lines['_x', 'phi_2']: line_i.set_color('#ff7f0e') # orange\n",
    "for line_i in mpc_graphics.pred_lines['_x', 'phi_3']: line_i.set_color('#2ca02c') # green\n",
    "# Change the color for the two inputs:    \n",
    "for line_i in mpc_graphics.pred_lines['_u', 'phi_m_1_set']: line_i.set_color('#1f77b4')\n",
    "for line_i in mpc_graphics.pred_lines['_u', 'phi_m_2_set']: line_i.set_color('#ff7f0e')\n",
    "    \n",
    "# Make all predictions transparent:\n",
    "for line_i in mpc_graphics.pred_lines.full: line_i.set_alpha(0.2)"
   ]
  },
  {
   "cell_type": "markdown",
   "metadata": {},
   "source": [
    "Note that we can work in the same way with the `result_lines` property.\n",
    "For example, we can use it to create a legend:"
   ]
  },
  {
   "cell_type": "code",
   "execution_count": 50,
   "metadata": {},
   "outputs": [
    {
     "data": {
      "text/plain": [
       "<matplotlib.legend.Legend at 0x7fa71c712eb8>"
      ]
     },
     "execution_count": 50,
     "metadata": {},
     "output_type": "execute_result"
    }
   ],
   "source": [
    "# Get line objects (note sum of lists creates a concatenated list)\n",
    "lines = sim_graphics.result_lines['_x', 'phi_1']+sim_graphics.result_lines['_x', 'phi_2']+sim_graphics.result_lines['_x', 'phi_3']\n",
    "\n",
    "ax[0].legend(lines,'123',title='disc')\n",
    "\n",
    "# also set legend for second subplot:\n",
    "lines = sim_graphics.result_lines['_u', 'phi_m_1_set']+sim_graphics.result_lines['_u', 'phi_m_2_set']\n",
    "ax[1].legend(lines,'12',title='motor')"
   ]
  },
  {
   "cell_type": "markdown",
   "metadata": {},
   "source": [
    "### Running the control loop\n",
    "Finally, we are now able to run the control loop as discussed above. We obtain the input from the `optimizer` and then run the `simulator`.\n",
    "\n",
    "To make sure we start fresh, we erase the history and set the initial state for the simulator:"
   ]
  },
  {
   "cell_type": "code",
   "execution_count": 51,
   "metadata": {},
   "outputs": [],
   "source": [
    "simulator.reset_history()\n",
    "simulator.x0 = x0\n",
    "mpc.reset_history()"
   ]
  },
  {
   "cell_type": "markdown",
   "metadata": {},
   "source": [
    "This is the main-loop. We run 20 steps, whic is identical to the prediction horizon. Note that we use \"capture\" again, to supress the output from IPOPT. \n",
    "\n",
    "It is usually suggested to display the output as it contains important information about the state of the solver."
   ]
  },
  {
   "cell_type": "code",
   "execution_count": 52,
   "metadata": {},
   "outputs": [],
   "source": [
    "%%capture\n",
    "for i in range(20):\n",
    "    u0 = mpc.make_step(x0)\n",
    "    x0 = simulator.make_step(u0)"
   ]
  },
  {
   "cell_type": "markdown",
   "metadata": {},
   "source": [
    "We can now plot the previously shown prediction from time $t=0$, as well as the closed-loop trajectory from the simulator:"
   ]
  },
  {
   "cell_type": "code",
   "execution_count": 53,
   "metadata": {},
   "outputs": [
    {
     "data": {
      "image/png": "[encoded data removed]",
      "text/plain": [
       "<Figure size 1152x648 with 2 Axes>"
      ]
     },
     "execution_count": 53,
     "metadata": {},
     "output_type": "execute_result"
    }
   ],
   "source": [
    "# Plot predictions from t=0\n",
    "mpc_graphics.plot_predictions(t_ind=0)\n",
    "# Plot results until current time\n",
    "sim_graphics.plot_results()\n",
    "sim_graphics.reset_axes()\n",
    "fig"
   ]
  },
  {
   "cell_type": "markdown",
   "metadata": {},
   "source": [
    "The simulated trajectory with the nominal value of the parameters follows almost exactly the nominal open-loop predictions. The simulted trajectory is bounded from above and below by further uncertain scenarios. "
   ]
  },
  {
   "cell_type": "markdown",
   "metadata": {},
   "source": [
    "## Data processing"
   ]
  },
  {
   "cell_type": "markdown",
   "metadata": {},
   "source": [
    "### Saving and retrieving results"
   ]
  },
  {
   "cell_type": "markdown",
   "metadata": {},
   "source": [
    "**do-mpc** results can be stored and retrieved with the methods `save_results` and `load_results` from the `do_mpc.data` module. We start by importing these methods:"
   ]
  },
  {
   "cell_type": "code",
   "execution_count": 55,
   "metadata": {},
   "outputs": [],
   "source": [
    "from do_mpc.data import save_results, load_results"
   ]
  },
  {
   "cell_type": "markdown",
   "metadata": {},
   "source": [
    "The method `save_results` is passed a list of the **do-mpc** objects that we want to store. In our case, the `optimizer` and `simulator` are available and configured. \n",
    "\n",
    "Note that by default results are stored in the subfolder `results` under the name `results.pkl`. Both can be changed and the folder is created if it doesn't exist already."
   ]
  },
  {
   "cell_type": "code",
   "execution_count": 56,
   "metadata": {},
   "outputs": [],
   "source": [
    "save_results([mpc, simulator])"
   ]
  },
  {
   "cell_type": "markdown",
   "metadata": {},
   "source": [
    "We investigate the content of the newly created folder:"
   ]
  },
  {
   "cell_type": "code",
   "execution_count": 57,
   "metadata": {},
   "outputs": [
    {
     "name": "stdout",
     "output_type": "stream",
     "text": [
      "results.pkl\r\n"
     ]
    }
   ],
   "source": [
    "!ls ./results/"
   ]
  },
  {
   "cell_type": "markdown",
   "metadata": {},
   "source": [
    "Automatically, the `save_results` call will check if a file with the given name already exists. To avoid overwriting, the method prepends an index. If we save again, the folder contains:"
   ]
  },
  {
   "cell_type": "code",
   "execution_count": 58,
   "metadata": {
    "scrolled": true
   },
   "outputs": [
    {
     "name": "stdout",
     "output_type": "stream",
     "text": [
      "001_results.pkl results.pkl\r\n"
     ]
    }
   ],
   "source": [
    "save_results([mpc, simulator])\n",
    "!ls ./results/"
   ]
  },
  {
   "cell_type": "markdown",
   "metadata": {},
   "source": [
    "The pickled results can be loaded manually by writing:\n",
    "\n",
    "```python\n",
    "with open(file_name, 'rb') as f:\n",
    "    results = pickle.load(f)\n",
    "```\n",
    "\n",
    "or by calling `load_results` with the appropriate `file_name` (and path). `load_results` contains simply the code above for more convenience."
   ]
  },
  {
   "cell_type": "code",
   "execution_count": 59,
   "metadata": {},
   "outputs": [],
   "source": [
    "results = load_results('./results/results.pkl')"
   ]
  },
  {
   "cell_type": "markdown",
   "metadata": {},
   "source": [
    "The obtained `results` is a dictionary with the `data` objects from the passed **do-mpc** modules. Such that:\n",
    "`results['optimizer']` and `optimizer.data` contain the same information (similarly for `simulator` and, if applicable, `estimator`)."
   ]
  },
  {
   "cell_type": "markdown",
   "metadata": {},
   "source": [
    "### Working with data objects\n",
    "The ``do_mpc.data.Data`` objects also hold some very useful properties that you should know about.\n",
    "Most importantly, we can query them with indices, such as:"
   ]
  },
  {
   "cell_type": "code",
   "execution_count": 60,
   "metadata": {},
   "outputs": [
    {
     "data": {
      "text/plain": [
       "<do_mpc.data.MPCData at 0x117c4df50>"
      ]
     },
     "execution_count": 60,
     "metadata": {},
     "output_type": "execute_result"
    }
   ],
   "source": [
    "results['mpc']"
   ]
  },
  {
   "cell_type": "code",
   "execution_count": 61,
   "metadata": {
    "scrolled": true
   },
   "outputs": [
    {
     "data": {
      "text/plain": [
       "(20, 8)"
      ]
     },
     "execution_count": 61,
     "metadata": {},
     "output_type": "execute_result"
    }
   ],
   "source": [
    "x = results['mpc']['_x']\n",
    "x.shape"
   ]
  },
  {
   "cell_type": "markdown",
   "metadata": {},
   "source": [
    "As expected, we have 20 elements (we ran the loop for 20 steps) and 8 states. Further indices allow to get selected states:"
   ]
  },
  {
   "cell_type": "code",
   "execution_count": 62,
   "metadata": {},
   "outputs": [
    {
     "data": {
      "text/plain": [
       "(20, 1)"
      ]
     },
     "execution_count": 62,
     "metadata": {},
     "output_type": "execute_result"
    }
   ],
   "source": [
    "phi_1 = results['mpc']['_x','phi_1']\n",
    "\n",
    "phi_1.shape"
   ]
  },
  {
   "cell_type": "markdown",
   "metadata": {},
   "source": [
    "For vector-valued states we can even query:"
   ]
  },
  {
   "cell_type": "code",
   "execution_count": 63,
   "metadata": {},
   "outputs": [
    {
     "data": {
      "text/plain": [
       "(20, 1)"
      ]
     },
     "execution_count": 63,
     "metadata": {},
     "output_type": "execute_result"
    }
   ],
   "source": [
    "dphi_1 = results['mpc']['_x','dphi', 0]\n",
    "\n",
    "dphi_1.shape"
   ]
  },
  {
   "cell_type": "markdown",
   "metadata": {},
   "source": [
    "Of course, we could also query inputs etc."
   ]
  },
  {
   "cell_type": "markdown",
   "metadata": {},
   "source": [
    "Furthermore, we can easily retrieve the predicted trajectories with the ``prediction`` method. The syntax is slightly different: The first argument is a tuple that mimics the indices shown above. The second index is the time instance. With the following call we obtain the prediction of ``phi_1`` at time 0:"
   ]
  },
  {
   "cell_type": "code",
   "execution_count": 64,
   "metadata": {},
   "outputs": [
    {
     "data": {
      "text/plain": [
       "(1, 21, 9)"
      ]
     },
     "execution_count": 64,
     "metadata": {},
     "output_type": "execute_result"
    }
   ],
   "source": [
    "phi_1_pred = results['mpc'].prediction(('_x','phi_1'), t_ind=0)\n",
    "\n",
    "phi_1_pred.shape"
   ]
  },
  {
   "cell_type": "markdown",
   "metadata": {},
   "source": [
    "The first dimension shows that this state is a scalar, the second dimension shows the horizon and the third dimension refers to the nine uncertain scenarios that were investigated."
   ]
  },
  {
   "cell_type": "markdown",
   "metadata": {},
   "source": [
    "### Animating results\n",
    "Animating MPC results, to compare prediction and closed-loop trajectories, allows for a very meaningful investigation of the obtained results.\n",
    "\n",
    "**do-mpc** significantly facilitates this process while working hand in hand with Matplotlib for full customizability. Obtaining publication ready animations is as easy as writing the following short blocks of code:"
   ]
  },
  {
   "cell_type": "code",
   "execution_count": 66,
   "metadata": {},
   "outputs": [],
   "source": [
    "from matplotlib.animation import FuncAnimation, FFMpegWriter, ImageMagickWriter\n",
    "\n",
    "def update(t_ind):\n",
    "    sim_graphics.plot_results(t_ind)\n",
    "    mpc_graphics.plot_predictions(t_ind)\n",
    "    mpc_graphics.reset_axes()\n"
   ]
  },
  {
   "cell_type": "markdown",
   "metadata": {},
   "source": [
    "The `graphics` module can also be used without restrictions with loaded **do-mpc** data. This allows for convenient data post-processing, e.g. in a Jupyter Notebook. We simply would have to initiate the ``graphics`` module with the loaded ``results`` from above."
   ]
  },
  {
   "cell_type": "code",
   "execution_count": 69,
   "metadata": {},
   "outputs": [],
   "source": [
    "anim = FuncAnimation(fig, update, frames=20, repeat=False)\n",
    "gif_writer = ImageMagickWriter(fps=3)\n",
    "anim.save('anim.gif', writer=gif_writer)"
   ]
  },
  {
   "cell_type": "markdown",
   "metadata": {},
   "source": [
    "Below we showcase the resulting gif file (not in real-time):\n",
    "![SegmentLocal](anim.gif \"segment\")"
   ]
  },
  {
   "cell_type": "markdown",
   "metadata": {},
   "source": [
    "Thank you, for following through this short example on how to use **do-mpc**. We hope you find the tool and this documentation useful.\n",
    "\n",
    "We suggest that you have a look at the API documentation for further details on the presented modules, methods and functions.\n",
    "\n",
    "We also want to emphasize that we skipped over many details, further functions etc. in this introduction. Please have a look at our more complex examples to get a better impression of the possibilities with **do-mpc**."
   ]
  }
 ],
 "metadata": {
  "kernelspec": {
   "display_name": "base",
   "language": "python",
   "name": "python3"
  },
  "language_info": {
   "codemirror_mode": {
    "name": "ipython",
    "version": 3
   },
   "file_extension": ".py",
   "mimetype": "text/x-python",
   "name": "python",
   "nbconvert_exporter": "python",
   "pygments_lexer": "ipython3",
   "version": "3.9.12 (main, Apr  5 2022, 01:53:17) \n[Clang 12.0.0 ]"
  },
  "toc": {
   "base_numbering": 1,
   "nav_menu": {},
   "number_sections": true,
   "sideBar": true,
   "skip_h1_title": false,
   "title_cell": "Table of Contents",
   "title_sidebar": "Contents",
   "toc_cell": false,
   "toc_position": {},
   "toc_section_display": true,
   "toc_window_display": false
  },
  "vscode": {
   "interpreter": {
    "hash": "c30f2af5f468e7f5b45bcc30fca5f4886c90d54777aed916ed5f6294dfb24bf2"
   }
  }
 },
 "nbformat": 4,
 "nbformat_minor": 2
}
