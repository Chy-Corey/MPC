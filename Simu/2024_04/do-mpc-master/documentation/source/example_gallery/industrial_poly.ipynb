{
 "cells": [
  {
   "cell_type": "markdown",
   "metadata": {},
   "source": [
    "# Industrial polymerization reactor\n",
    "\n",
    "In this Jupyter Notebook we illustrate the example **industrial_poly**.\n",
    "\n",
    "**Open an interactive online Jupyter Notebook with this content on Binder:**\n",
    "\n",
    "[![Binder](https://mybinder.org/badge_logo.svg)](https://mybinder.org/v2/gh/do-mpc/do-mpc.git/master?filepath=%2Fdocumentation%2Fsource%2Fexample_gallery%2Findustrial_poly.ipynb)\n",
    "\n",
    "\n",
    "The example consists of the three modules **template_model.py**, which describes the system model, **template_mpc.py**, which defines the settings for the control and **template_simulator.py**, which sets the parameters for the simulator.\n",
    "The modules are used in **main.py** for the closed-loop execution of the controller.\n",
    "\n",
    "In the following the different parts are presented. But first, we start by importing basic modules and **do-mpc**."
   ]
  },
  {
   "cell_type": "code",
   "execution_count": 29,
   "metadata": {},
   "outputs": [],
   "source": [
    "import numpy as np\n",
    "import matplotlib.pyplot as plt\n",
    "import sys\n",
    "from casadi import *\n",
    "\n",
    "# Add do_mpc to path. This is not necessary if it was installed via pip\n",
    "import os\n",
    "rel_do_mpc_path = os.path.join('..','..','..')\n",
    "sys.path.append(rel_do_mpc_path)\n",
    "\n",
    "# Import do_mpc package:\n",
    "import do_mpc"
   ]
  },
  {
   "cell_type": "markdown",
   "metadata": {},
   "source": [
    "## Model"
   ]
  },
  {
   "cell_type": "markdown",
   "metadata": {},
   "source": [
    "In the following we will present the configuration, setup and connection between these blocks, starting with the `model`.\n",
    "The considered model of the industrial reactor is continuous and has 10 states and 3 control inputs.\n",
    "The model is initiated by:"
   ]
  },
  {
   "cell_type": "code",
   "execution_count": 2,
   "metadata": {},
   "outputs": [],
   "source": [
    "model_type = 'continuous' # either 'discrete' or 'continuous'\n",
    "model = do_mpc.model.Model(model_type)"
   ]
  },
  {
   "cell_type": "markdown",
   "metadata": {},
   "source": [
    "### System description\n",
    "\n",
    "The system consists of a reactor into which nonomer is fed.\n",
    "The monomerturns into a polymer via a very exothermic chemical reaction.\n",
    "The reactor is equipped with a jacket and with an External Heat Exchanger(EHE) that can both be used to control the temperature inside the reactor.\n",
    "A schematic representation of the system is presented below:\n",
    "\n",
    "![polysketch](industiral_poly_sketch.svg \"Industrial polymerization batch reactor\")\n",
    "\n",
    "The process is modeled by a set of 8 ordinary differential equations (ODEs):\n",
    "\n",
    "\\begin{align}\n",
    "\\dot{m}_{\\text{W}} &=  \\ \\dot{m}_{\\text{F}}\\, \\omega_{\\text{W,F}} \\\\\n",
    "\\dot{m}_{\\text{A}} &=  \\ \\dot{m}_{\\text{F}} \\omega_{\\text{A,F}}-k_{\\text{R1}}\\, m_{\\text{A,R}}-k_{\\text{R2}}\\, m_{\\text{AWT}}\\, m_{\\text{A}}/m_{\\text{ges}} , \\\\\n",
    "\\dot{m}_{\\text{P}} &=  \\ k_{\\text{R1}} \\, m_{\\text{A,R}}+p_{1}\\, k_{\\text{R2}}\\, m_{\\text{AWT}}\\, m_{\\text{A}}/ m_{\\text{ges}}, \\\\\n",
    "\\dot{T}_{\\text{R}} &=  \\ 1/(c_{\\text{p,R}} m_{\\text{ges}})\\; [\\dot{m}_{\\text{F}} \\; c_{\\text{p,F}}\\left(T_{\\text{F}}-T_{\\text{R}}\\right) +\\Delta H_{\\text{R}} k_{\\text{R1}} m_{\\text{A,R}}-k_{\\text{K}} A\\left(T_{\\text{R}}-T_{\\text{S}}\\right) \\\\\n",
    "&- \\dot{m}_{\\text{AWT}} \\,c_{\\text{p,R}}\\left(T_{\\text{R}}-T_{\\text{EK}}\\right)],\\notag\\\\\n",
    "\\dot{T}_{S} &=  1/(c_{\\text{p,S}} m_{\\text{S}}) \\;[k_{\\text{K}} A\\left(T_{\\text{R}}-T_{\\text{S}}\\right)-k_{\\text{K}} A\\left(T_{\\text{S}}-T_{\\text{M}}\\right)], \\notag\\\\\n",
    "\\dot{T}_{\\text{M}} &=  1/(c_{\\text{p,W}} m_{\\text{M,KW}})\\;[\\dot{m}_{\\text{M,KW}}\\, c_{\\text{p,W}}\\left(T_{\\text{M}}^{\\text{IN}}-T_{\\text{M}}\\right) \\\\\n",
    "&+ k_{\\text{K}} A\\left(T_{\\text{S}}-T_{\\text{M}}\\right)]+k_{\\text{K}} A\\left(T_{\\text{S}}-T_{\\text{M}}\\right)], \\\\\n",
    "\\dot{T}_{\\text{EK}}&=  1/(c_{\\text{p,R}} m_{\\text{AWT}})\\;[\\dot{m}_{\\text{AWT}} c_{\\text{p,W}}\\left(T_{\\text{R}}-T_{\\text{EK}}\\right)-\\alpha\\left(T_{\\text{EK}}-T_{\\text{AWT}}\\right)  \\\\ \n",
    "&+   k_{\\text{R2}}\\, m_{\\text{A}}\\, m_{\\text{AWT}}\\Delta H_{\\text{R}}/m_{\\text{ges}}], \\notag\\\\\n",
    "\\dot{T}_{\\text{AWT}} &=  [\\dot{m}_{\\text{AWT,KW}} \\,c_{\\text{p,W}}\\,(T_{\\text{AWT}}^{\\text{IN}}-T_{\\text{AWT}})-\\alpha\\left(T_{\\text{AWT}}-T_{\\text{EK}}\\right)]/(c_{\\text{p,W}} m_{\\text{AWT,KW}}),\n",
    "\\end{align}\n",
    "\n",
    "where\n",
    "\n",
    "\\begin{align}\n",
    "U       &=  m_{\\text{P}}/(m_{\\text{A}}+m_{\\text{P}}), \\\\\n",
    "m_{\\text{ges}} &=  \\  m_{\\text{W}}+m_{\\text{A}}+m_{\\text{P}}, \\\\\n",
    "k_{\\text{R1}}  &=  \\  k_{0} e^{\\frac{-E_{a}}{R (T_{\\text{R}}+273.15)}}\\left(k_{\\text{U1}}\\left(1-U\\right)+k_{\\text{U2}} U\\right), \\\\\n",
    "k_{\\text{R2}}  &=  \\  k_{0} e^{\\frac{-E_{a}}{R (T_{\\text{EK}}+273.15)}}\\left(k_{\\text{U1}}\\left(1-U\\right)+k_{\\text{U2}} U\\right), \\\\\n",
    "k_{\\text{K}}   &=  (m_{\\text{W}}k_{\\text{WS}}+m_{\\text{A}}k_{\\text{AS}}+m_{\\text{P}}k_{\\text{PS}})/m_{\\text{ges}},\\\\\n",
    "m_{\\text{A,R}} &=  m_\\text{A}-m_\\text{A} m_{\\text{AWT}}/m_{\\text{ges}}.\n",
    "\\end{align}\n",
    "\n",
    "The model includes mass balances for the water, monomer and product hold-ups ($m_\\text{W}$, $m_\\text{A}$, $m_\\text{P}$) and energy balances for the reactor ($T_\\text{R}$), the vessel ($T_\\text{S}$), the jacket ($T_\\text{M}$), the mixture in the external heat exchanger ($T_{\\text{EK}}$) and the coolant leaving the external heat exchanger ($T_{\\text{AWT}}$).\n",
    "The variable $U$ denotes the polymer-monomer ratio  in the reactor, $m_{\\text{ges}}$ represents the total mass, $k_{\\text{R1}}$ is the reaction rate inside the reactor and $k_{\\text{R2}}$ is the reaction rate in the external heat exchanger. The total heat transfer coefficient of the mixture inside the reactor is denoted as $k_{\\text{K}}$ and $m_{\\text{A,R}}$ represents the current amount of monomer inside the reactor.\n",
    "\n",
    "The available control inputs are the feed flow $\\dot{m}_{\\text{F}}$, the coolant temperature at the inlet of the jacket $T^{\\text{IN}}_{\\text{M}}$ and the coolant temperature at the inlet of the external heat exchanger $T^{\\text{IN}}_{\\text{AWT}}$.\n",
    "\n",
    "An overview of the parameters are listed below:\n",
    "\n",
    "![polyparameters](poly_reactor_parameters.png \"Parameters of the polymerization reactor\")"
   ]
  },
  {
   "cell_type": "markdown",
   "metadata": {},
   "source": [
    "### Implementation\n",
    "\n",
    "First, we set the certain parameters:"
   ]
  },
  {
   "cell_type": "code",
   "execution_count": 3,
   "metadata": {},
   "outputs": [],
   "source": [
    "# Certain parameters\n",
    "R           = 8.314\t\t\t#gas constant\n",
    "T_F         = 25 + 273.15\t#feed temperature\n",
    "E_a         = 8500.0\t\t#activation energy\n",
    "delH_R      = 950.0*1.00\t#sp reaction enthalpy\n",
    "A_tank      = 65.0\t\t\t#area heat exchanger surface jacket 65\n",
    "\n",
    "k_0         = 7.0*1.00\t\t#sp reaction rate\n",
    "k_U2        = 32.0\t\t\t#reaction parameter 1\n",
    "k_U1        = 4.0\t\t\t#reaction parameter 2\n",
    "w_WF        = .333\t\t\t#mass fraction water in feed\n",
    "w_AF        = .667\t\t\t#mass fraction of A in feed\n",
    "\n",
    "m_M_KW      = 5000.0\t\t#mass of coolant in jacket\n",
    "fm_M_KW     = 300000.0\t\t#coolant flow in jacket 300000;\n",
    "m_AWT_KW    = 1000.0\t\t#mass of coolant in EHE\n",
    "fm_AWT_KW   = 100000.0\t\t#coolant flow in EHE\n",
    "m_AWT       = 200.0\t\t\t#mass of product in EHE\n",
    "fm_AWT      = 20000.0\t\t#product flow in EHE\n",
    "m_S         = 39000.0\t\t#mass of reactor steel\n",
    "\n",
    "c_pW        = 4.2\t\t\t#sp heat cap coolant\n",
    "c_pS        = .47\t\t\t#sp heat cap steel\n",
    "c_pF        = 3.0\t\t\t#sp heat cap feed\n",
    "c_pR        = 5.0\t\t\t#sp heat cap reactor contents\n",
    "\n",
    "k_WS        = 17280.0\t\t#heat transfer coeff water-steel\n",
    "k_AS        = 3600.0\t\t#heat transfer coeff monomer-steel\n",
    "k_PS        = 360.0\t\t\t#heat transfer coeff product-steel\n",
    "\n",
    "alfa        = 5*20e4*3.6\n",
    "\n",
    "p_1         = 1.0"
   ]
  },
  {
   "cell_type": "markdown",
   "metadata": {},
   "source": [
    "and afterwards the uncertain parameters:"
   ]
  },
  {
   "cell_type": "code",
   "execution_count": 4,
   "metadata": {},
   "outputs": [],
   "source": [
    "# Uncertain parameters:\n",
    "delH_R = model.set_variable('_p', 'delH_R')\n",
    "k_0 =    model.set_variable('_p', 'k_0')"
   ]
  },
  {
   "cell_type": "markdown",
   "metadata": {},
   "source": [
    "The 10 states of the control problem stem from the 8 ODEs, `accum_monom`  models the amount that has been fed to the reactor via $\\dot{m}_\\text{F}^{\\text{acc}} = \\dot{m}_{\\text{F}}$ and `T_adiab` ($T_{\\text{adiab}}=\\frac{\\Delta H_{\\text{R}}}{c_{\\text{p,R}}} \\frac{m_{\\text{A}}}{m_{\\text{ges}}} + T_{\\text{R}}$, hence $\\dot{T}_{\\text{adiab}}=\\frac{\\Delta H_{\\text{R}}}{m_{\\text{ges}} c_{\\text{p,R}}}\\dot{m}_{\\text{A}}-\n",
    "\\left(\\dot{m}_{\\text{W}}+\\dot{m}_{\\text{A}}+\\dot{m}_{\\text{P}}\\right)\\left(\\frac{m_{\\text{A}} \\Delta H_{\\text{R}}}{m_{\\text{ges}}^2c_{\\text{p,R}}}\\right)+\\dot{T}_{\\text{R}}$) is a virtual variable that is important for safety aspects, as we will explain later.\n",
    "All states are created in **do-mpc** via:"
   ]
  },
  {
   "cell_type": "code",
   "execution_count": 5,
   "metadata": {},
   "outputs": [],
   "source": [
    "# States struct (optimization variables):\n",
    "m_W =         model.set_variable('_x', 'm_W')\n",
    "m_A =         model.set_variable('_x', 'm_A')\n",
    "m_P =         model.set_variable('_x', 'm_P')\n",
    "T_R =         model.set_variable('_x', 'T_R')\n",
    "T_S =         model.set_variable('_x', 'T_S')\n",
    "Tout_M =      model.set_variable('_x', 'Tout_M')\n",
    "T_EK =        model.set_variable('_x', 'T_EK')\n",
    "Tout_AWT =    model.set_variable('_x', 'Tout_AWT')\n",
    "accum_monom = model.set_variable('_x', 'accum_monom')\n",
    "T_adiab =     model.set_variable('_x', 'T_adiab')"
   ]
  },
  {
   "cell_type": "markdown",
   "metadata": {},
   "source": [
    "and the control inputs via:"
   ]
  },
  {
   "cell_type": "code",
   "execution_count": 6,
   "metadata": {},
   "outputs": [],
   "source": [
    "# Input struct (optimization variables):\n",
    "m_dot_f = model.set_variable('_u', 'm_dot_f')\n",
    "T_in_M =  model.set_variable('_u', 'T_in_M')\n",
    "T_in_EK = model.set_variable('_u', 'T_in_EK')"
   ]
  },
  {
   "cell_type": "markdown",
   "metadata": {},
   "source": [
    "Before defining the ODE for each state variable, we create auxiliary terms:"
   ]
  },
  {
   "cell_type": "code",
   "execution_count": 7,
   "metadata": {},
   "outputs": [],
   "source": [
    "# algebraic equations\n",
    "U_m    = m_P / (m_A + m_P)\n",
    "m_ges  = m_W + m_A + m_P\n",
    "k_R1   = k_0 * exp(- E_a/(R*T_R)) * ((k_U1 * (1 - U_m)) + (k_U2 * U_m))\n",
    "k_R2   = k_0 * exp(- E_a/(R*T_EK))* ((k_U1 * (1 - U_m)) + (k_U2 * U_m))\n",
    "k_K    = ((m_W / m_ges) * k_WS) + ((m_A/m_ges) * k_AS) + ((m_P/m_ges) * k_PS)"
   ]
  },
  {
   "cell_type": "markdown",
   "metadata": {},
   "source": [
    "The auxiliary terms are used for the more readable definition of the ODEs:"
   ]
  },
  {
   "cell_type": "code",
   "execution_count": 8,
   "metadata": {},
   "outputs": [],
   "source": [
    "# Differential equations\n",
    "dot_m_W = m_dot_f * w_WF\n",
    "model.set_rhs('m_W', dot_m_W)\n",
    "dot_m_A = (m_dot_f * w_AF) - (k_R1 * (m_A-((m_A*m_AWT)/(m_W+m_A+m_P)))) - (p_1 * k_R2 * (m_A/m_ges) * m_AWT)\n",
    "model.set_rhs('m_A', dot_m_A)\n",
    "dot_m_P = (k_R1 * (m_A-((m_A*m_AWT)/(m_W+m_A+m_P)))) + (p_1 * k_R2 * (m_A/m_ges) * m_AWT)\n",
    "model.set_rhs('m_P', dot_m_P)\n",
    "\n",
    "dot_T_R = 1./(c_pR * m_ges)   * ((m_dot_f * c_pF * (T_F - T_R)) - (k_K *A_tank* (T_R - T_S)) - (fm_AWT * c_pR * (T_R - T_EK)) + (delH_R * k_R1 * (m_A-((m_A*m_AWT)/(m_W+m_A+m_P)))))\n",
    "model.set_rhs('T_R', dot_T_R)\n",
    "model.set_rhs('T_S', 1./(c_pS * m_S)     * ((k_K *A_tank* (T_R - T_S)) - (k_K *A_tank* (T_S - Tout_M))))\n",
    "model.set_rhs('Tout_M', 1./(c_pW * m_M_KW)  * ((fm_M_KW * c_pW * (T_in_M - Tout_M)) + (k_K *A_tank* (T_S - Tout_M))))\n",
    "model.set_rhs('T_EK', 1./(c_pR * m_AWT)   * ((fm_AWT * c_pR * (T_R - T_EK)) - (alfa * (T_EK - Tout_AWT)) + (p_1 * k_R2 * (m_A/m_ges) * m_AWT * delH_R)))\n",
    "model.set_rhs('Tout_AWT', 1./(c_pW * m_AWT_KW)* ((fm_AWT_KW * c_pW * (T_in_EK - Tout_AWT)) - (alfa * (Tout_AWT - T_EK))))\n",
    "model.set_rhs('accum_monom', m_dot_f)\n",
    "model.set_rhs('T_adiab', delH_R/(m_ges*c_pR)*dot_m_A-(dot_m_A+dot_m_W+dot_m_P)*(m_A*delH_R/(m_ges*m_ges*c_pR))+dot_T_R)"
   ]
  },
  {
   "cell_type": "markdown",
   "metadata": {},
   "source": [
    "Finally, the model setup is completed:"
   ]
  },
  {
   "cell_type": "code",
   "execution_count": 9,
   "metadata": {},
   "outputs": [],
   "source": [
    "# Build the model\n",
    "model.setup()"
   ]
  },
  {
   "cell_type": "markdown",
   "metadata": {},
   "source": [
    "## Controller\n"
   ]
  },
  {
   "cell_type": "markdown",
   "metadata": {},
   "source": [
    "Next, the model predictive controller is configured (in **template_mpc.py**).\n",
    "First, one member of the mpc class is generated with the prediction model defined above:"
   ]
  },
  {
   "cell_type": "code",
   "execution_count": 10,
   "metadata": {},
   "outputs": [],
   "source": [
    "mpc = do_mpc.controller.MPC(model)"
   ]
  },
  {
   "cell_type": "markdown",
   "metadata": {},
   "source": [
    "Real processes are also subject to important safety constraints that are incorporated to account for possible failures of the equipment. In this case, the maximum temperature that the reactor would reach in the case of a cooling failure is constrained to be below $109 ^\\circ$C.\n",
    "The temperature that the reactor would achieve in the case of a complete cooling failure is $T_{\\text{adiab}}$, hence it needs to stay beneath $109 ^\\circ$C.\n",
    "\n",
    "We choose the prediction horizon `n_horizon`, set the robust horizon `n_robust` to 1. The time step `t_step` is set to one second and parameters of the applied discretization scheme orthogonal collocation are as seen below:"
   ]
  },
  {
   "cell_type": "code",
   "execution_count": 11,
   "metadata": {},
   "outputs": [],
   "source": [
    "setup_mpc = {\n",
    "    'n_horizon': 20,\n",
    "    'n_robust': 1,\n",
    "    'open_loop': 0,\n",
    "    't_step': 50.0/3600.0,\n",
    "    'state_discretization': 'collocation',\n",
    "    'collocation_type': 'radau',\n",
    "    'collocation_deg': 2,\n",
    "    'collocation_ni': 2,\n",
    "    'store_full_solution': True,\n",
    "    # Use MA27 linear solver in ipopt for faster calculations:\n",
    "    #'nlpsol_opts': {'ipopt.linear_solver': 'MA27'}\n",
    "}\n",
    "\n",
    "mpc.set_param(**setup_mpc)"
   ]
  },
  {
   "cell_type": "markdown",
   "metadata": {},
   "source": [
    "### Objective\n",
    "\n",
    "The goal of the economic NMPC controller is to produce $20680~\\text{kg}$ of $m_{\\text{P}}$ as fast as possible.\n",
    "Additionally, we add a penalty on input changes for all three control inputs, to obtain a smooth control performance."
   ]
  },
  {
   "cell_type": "code",
   "execution_count": 12,
   "metadata": {},
   "outputs": [],
   "source": [
    "_x = model.x\n",
    "mterm = - _x['m_P'] # terminal cost\n",
    "lterm = - _x['m_P'] # stage cost\n",
    "\n",
    "mpc.set_objective(mterm=mterm, lterm=lterm)\n",
    "\n",
    "mpc.set_rterm(m_dot_f=0.002, T_in_M=0.004, T_in_EK=0.002) # penalty on control input changes"
   ]
  },
  {
   "cell_type": "markdown",
   "metadata": {},
   "source": [
    "### Constraints\n",
    "\n",
    "The temperature at which the polymerization reaction takes place strongly influences the properties of the resulting polymer. For this reason, the temperature of the reactor should be maintained in a range of $\\pm 2.0  ^\\circ$C around the desired reaction temperature $T_{\\text{set}}=90 ^\\circ$C in order to ensure that the produced polymer has the required properties.  \n",
    "\n",
    "The initial conditions and the bounds for all states are summarized in:\n",
    "\n",
    "![polybounds](industrial_poly_states.png \"States and their initial conditions and bounds\")\n",
    "\n",
    "and set via:"
   ]
  },
  {
   "cell_type": "code",
   "execution_count": 13,
   "metadata": {},
   "outputs": [],
   "source": [
    "# auxiliary term\n",
    "temp_range = 2.0\n",
    "\n",
    "# lower bound states\n",
    "mpc.bounds['lower','_x','m_W'] = 0.0\n",
    "mpc.bounds['lower','_x','m_A'] = 0.0\n",
    "mpc.bounds['lower','_x','m_P'] = 26.0\n",
    "\n",
    "mpc.bounds['lower','_x','T_R'] = 363.15 - temp_range\n",
    "mpc.bounds['lower','_x','T_S'] = 298.0\n",
    "mpc.bounds['lower','_x','Tout_M'] = 298.0\n",
    "mpc.bounds['lower','_x','T_EK'] = 288.0\n",
    "mpc.bounds['lower','_x','Tout_AWT'] = 288.0\n",
    "mpc.bounds['lower','_x','accum_monom'] = 0.0\n",
    "\n",
    "# upper bound states\n",
    "mpc.bounds['upper','_x','T_S'] = 400.0\n",
    "mpc.bounds['upper','_x','Tout_M'] = 400.0\n",
    "mpc.bounds['upper','_x','T_EK'] = 400.0\n",
    "mpc.bounds['upper','_x','Tout_AWT'] = 400.0\n",
    "mpc.bounds['upper','_x','accum_monom'] = 30000.0\n",
    "mpc.bounds['upper','_x','T_adiab'] = 382.15"
   ]
  },
  {
   "cell_type": "markdown",
   "metadata": {},
   "source": [
    "The upper bound of the reactor temperature is set via a soft-constraint:"
   ]
  },
  {
   "cell_type": "code",
   "execution_count": null,
   "metadata": {},
   "outputs": [],
   "source": [
    "mpc.set_nl_cons('T_R_UB', _x['T_R'], ub=363.15+temp_range, soft_constraint=True, penalty_term_cons=1e4)"
   ]
  },
  {
   "cell_type": "markdown",
   "metadata": {},
   "source": [
    "The bounds of the inputsare summarized below:\n",
    "\n",
    "![polyinputbounds](industrial_poly_inputs.png \"Control inputs and their bounds\")\n",
    "\n",
    "and set via:"
   ]
  },
  {
   "cell_type": "code",
   "execution_count": 14,
   "metadata": {},
   "outputs": [],
   "source": [
    "# lower bound inputs\n",
    "mpc.bounds['lower','_u','m_dot_f'] = 0.0\n",
    "mpc.bounds['lower','_u','T_in_M'] = 333.15\n",
    "mpc.bounds['lower','_u','T_in_EK'] = 333.15\n",
    "\n",
    "# upper bound inputs\n",
    "mpc.bounds['upper','_u','m_dot_f'] = 3.0e4\n",
    "mpc.bounds['upper','_u','T_in_M'] = 373.15\n",
    "mpc.bounds['upper','_u','T_in_EK'] = 373.15"
   ]
  },
  {
   "cell_type": "markdown",
   "metadata": {},
   "source": [
    "### Scaling\n",
    "\n",
    "Because the magnitudes of the states and inputs are very different, the performance of the optimizer can be enhanced by properly scaling the states and inputs:"
   ]
  },
  {
   "cell_type": "code",
   "execution_count": 15,
   "metadata": {},
   "outputs": [],
   "source": [
    "# states\n",
    "mpc.scaling['_x','m_W'] = 10\n",
    "mpc.scaling['_x','m_A'] = 10\n",
    "mpc.scaling['_x','m_P'] = 10\n",
    "mpc.scaling['_x','accum_monom'] = 10\n",
    "\n",
    "# control inputs\n",
    "mpc.scaling['_u','m_dot_f'] = 100"
   ]
  },
  {
   "cell_type": "markdown",
   "metadata": {},
   "source": [
    "### Uncertain values\n",
    "\n",
    "In a real system, usually the model parameters cannot be determined exactly, what  represents an important source of uncertainty. In this work, we consider that two of the most critical parameters of the model are not precisely known and vary with respect to their nominal value. In particular, we assume that the specific reaction enthalpy $\\Delta H_{\\text{R}}$ and the specific reaction rate $k_0$ are constant but uncertain, having values that can vary $\\pm 30 \\%$ with respect to their nominal values"
   ]
  },
  {
   "cell_type": "code",
   "execution_count": 16,
   "metadata": {},
   "outputs": [],
   "source": [
    "delH_R_var = np.array([950.0, 950.0 * 1.30, 950.0 * 0.70])\n",
    "k_0_var = np.array([7.0 * 1.00, 7.0 * 1.30, 7.0 * 0.70])\n",
    "\n",
    "mpc.set_uncertainty_values(delH_R = delH_R_var, k_0 = k_0_var)"
   ]
  },
  {
   "cell_type": "markdown",
   "metadata": {},
   "source": [
    "This means with `n_robust=1`, that 9 different scenarios are considered.\n",
    "The setup of the MPC controller is concluded by:"
   ]
  },
  {
   "cell_type": "code",
   "execution_count": 17,
   "metadata": {},
   "outputs": [],
   "source": [
    "mpc.setup()"
   ]
  },
  {
   "cell_type": "markdown",
   "metadata": {},
   "source": [
    "## Estimator\n",
    "\n",
    "We assume, that all states can be directly measured (state-feedback):"
   ]
  },
  {
   "cell_type": "code",
   "execution_count": 18,
   "metadata": {},
   "outputs": [],
   "source": [
    "estimator = do_mpc.estimator.StateFeedback(model)"
   ]
  },
  {
   "cell_type": "markdown",
   "metadata": {},
   "source": [
    "## Simulator\n",
    "\n",
    "To create a simulator in order to run the MPC in a closed-loop, we create an instance of the **do-mpc** simulator which is based on the same model:"
   ]
  },
  {
   "cell_type": "code",
   "execution_count": 19,
   "metadata": {},
   "outputs": [],
   "source": [
    "simulator = do_mpc.simulator.Simulator(model)"
   ]
  },
  {
   "cell_type": "markdown",
   "metadata": {},
   "source": [
    "For the simulation, we use the same time step `t_step` as for the optimizer:"
   ]
  },
  {
   "cell_type": "code",
   "execution_count": 20,
   "metadata": {},
   "outputs": [],
   "source": [
    "params_simulator = {\n",
    "    'integration_tool': 'cvodes',\n",
    "    'abstol': 1e-10,\n",
    "    'reltol': 1e-10,\n",
    "    't_step': 50.0/3600.0\n",
    "}\n",
    "\n",
    "simulator.set_param(**params_simulator)"
   ]
  },
  {
   "cell_type": "markdown",
   "metadata": {},
   "source": [
    "### Realizations of uncertain parameters\n",
    "\n",
    "For the simulatiom, it is necessary to define the numerical realizations of the uncertain parameters in `p_num`.\n",
    "First, we get the structure of the uncertain parameters:"
   ]
  },
  {
   "cell_type": "code",
   "execution_count": 21,
   "metadata": {},
   "outputs": [],
   "source": [
    "p_num = simulator.get_p_template()\n",
    "tvp_num = simulator.get_tvp_template()"
   ]
  },
  {
   "cell_type": "markdown",
   "metadata": {},
   "source": [
    "We define a function which is called in each simulation step, which returns the current realizations of the parameters with respect to defined inputs (in this case `t_now`):"
   ]
  },
  {
   "cell_type": "code",
   "execution_count": 22,
   "metadata": {},
   "outputs": [],
   "source": [
    "# uncertain parameters\n",
    "p_num['delH_R'] = 950 * np.random.uniform(0.75,1.25)\n",
    "p_num['k_0'] = 7 * np.random.uniform(0.75*1.25)\n",
    "def p_fun(t_now):\n",
    "    return p_num\n",
    "simulator.set_p_fun(p_fun)"
   ]
  },
  {
   "cell_type": "markdown",
   "metadata": {},
   "source": [
    "By defining `p_fun` as above, the function will return a constant value for both uncertain parameters within a range of $\\pm 25\\%$ of the nomimal value.\n",
    "To finish the configuration of the simulator, call:"
   ]
  },
  {
   "cell_type": "code",
   "execution_count": 23,
   "metadata": {},
   "outputs": [],
   "source": [
    "simulator.setup()"
   ]
  },
  {
   "cell_type": "markdown",
   "metadata": {},
   "source": [
    "## Closed-loop simulation\n",
    "\n",
    "For the simulation of the MPC configured for the CSTR, we inspect the file **main.py**.\n",
    "We define the initial state of the system and set it for all parts of the closed-loop configuration:"
   ]
  },
  {
   "cell_type": "code",
   "execution_count": 24,
   "metadata": {},
   "outputs": [],
   "source": [
    "# Set the initial state of the controller and simulator:\n",
    "# assume nominal values of uncertain parameters as initial guess\n",
    "delH_R_real = 950.0\n",
    "c_pR = 5.0\n",
    "\n",
    "# x0 is a property of the simulator - we obtain it and set values.\n",
    "x0 = simulator.x0\n",
    "\n",
    "x0['m_W'] = 10000.0\n",
    "x0['m_A'] = 853.0\n",
    "x0['m_P'] = 26.5\n",
    "\n",
    "x0['T_R'] = 90.0 + 273.15\n",
    "x0['T_S'] = 90.0 + 273.15\n",
    "x0['Tout_M'] = 90.0 + 273.15\n",
    "x0['T_EK'] = 35.0 + 273.15\n",
    "x0['Tout_AWT'] = 35.0 + 273.15\n",
    "x0['accum_monom'] = 300.0\n",
    "x0['T_adiab'] = x0['m_A']*delH_R_real/((x0['m_W'] + x0['m_A'] + x0['m_P']) * c_pR) + x0['T_R']\n",
    "\n",
    "mpc.x0 = x0\n",
    "simulator.x0 = x0\n",
    "estimator.x0 = x0\n",
    "\n",
    "mpc.set_initial_guess()"
   ]
  },
  {
   "cell_type": "markdown",
   "metadata": {},
   "source": [
    "Now, we simulate the closed-loop for 100 steps (and suppress the output of the cell with the magic command `%%capture`):"
   ]
  },
  {
   "cell_type": "code",
   "execution_count": 25,
   "metadata": {},
   "outputs": [],
   "source": [
    "%%capture\n",
    "for k in range(100):\n",
    "    u0 = mpc.make_step(x0)\n",
    "    y_next = simulator.make_step(u0)\n",
    "    x0 = estimator.make_step(y_next)"
   ]
  },
  {
   "cell_type": "markdown",
   "metadata": {},
   "source": [
    "## Animating the results\n",
    "\n",
    "To animate the results, we first configure the **do-mpc** graphics object, which is initiated with the respective data object:"
   ]
  },
  {
   "cell_type": "code",
   "execution_count": 48,
   "metadata": {},
   "outputs": [],
   "source": [
    "mpc_graphics = do_mpc.graphics.Graphics(mpc.data)"
   ]
  },
  {
   "cell_type": "markdown",
   "metadata": {},
   "source": [
    "We quickly configure Matplotlib."
   ]
  },
  {
   "cell_type": "code",
   "execution_count": 49,
   "metadata": {},
   "outputs": [],
   "source": [
    "from matplotlib import rcParams\n",
    "rcParams['axes.grid'] = True\n",
    "rcParams['font.size'] = 18"
   ]
  },
  {
   "cell_type": "markdown",
   "metadata": {},
   "source": [
    "We then create a figure, configure which lines to plot on which axis and add labels."
   ]
  },
  {
   "cell_type": "code",
   "execution_count": 50,
   "metadata": {},
   "outputs": [],
   "source": [
    "%%capture\n",
    "fig, ax = plt.subplots(5, sharex=True, figsize=(16,12))\n",
    "plt.ion()\n",
    "# Configure plot:\n",
    "mpc_graphics.add_line(var_type='_x', var_name='T_R', axis=ax[0])\n",
    "mpc_graphics.add_line(var_type='_x', var_name='accum_monom', axis=ax[1])\n",
    "mpc_graphics.add_line(var_type='_u', var_name='m_dot_f', axis=ax[2])\n",
    "mpc_graphics.add_line(var_type='_u', var_name='T_in_M', axis=ax[3])\n",
    "mpc_graphics.add_line(var_type='_u', var_name='T_in_EK', axis=ax[4])\n",
    "\n",
    "ax[0].set_ylabel('T_R [K]')\n",
    "ax[1].set_ylabel('acc. monom')\n",
    "ax[2].set_ylabel('m_dot_f')\n",
    "ax[3].set_ylabel('T_in_M [K]')\n",
    "ax[4].set_ylabel('T_in_EK [K]')\n",
    "ax[4].set_xlabel('time')\n",
    "\n",
    "fig.align_ylabels()"
   ]
  },
  {
   "cell_type": "markdown",
   "metadata": {},
   "source": [
    "After importing the necessary package:"
   ]
  },
  {
   "cell_type": "code",
   "execution_count": 43,
   "metadata": {},
   "outputs": [],
   "source": [
    "from matplotlib.animation import FuncAnimation, ImageMagickWriter"
   ]
  },
  {
   "cell_type": "markdown",
   "metadata": {},
   "source": [
    "We obtain the animation with:"
   ]
  },
  {
   "cell_type": "code",
   "execution_count": 51,
   "metadata": {
    "scrolled": true
   },
   "outputs": [
    {
     "name": "stdout",
     "output_type": "stream",
     "text": [
      "Writing frame: 99.\r"
     ]
    }
   ],
   "source": [
    "def update(t_ind):\n",
    "    print('Writing frame: {}.'.format(t_ind), end='\\r')\n",
    "    mpc_graphics.plot_results(t_ind=t_ind)\n",
    "    mpc_graphics.plot_predictions(t_ind=t_ind)\n",
    "    mpc_graphics.reset_axes()\n",
    "    lines = mpc_graphics.result_lines.full\n",
    "    return lines\n",
    "\n",
    "n_steps = mpc.data['_time'].shape[0]\n",
    "\n",
    "\n",
    "anim = FuncAnimation(fig, update, frames=n_steps, blit=True)\n",
    "\n",
    "gif_writer = ImageMagickWriter(fps=5)\n",
    "anim.save('anim_poly_batch.gif', writer=gif_writer)"
   ]
  },
  {
   "cell_type": "markdown",
   "metadata": {},
   "source": [
    "![pbanim](anim_poly_batch.gif \"pb\")"
   ]
  },
  {
   "cell_type": "markdown",
   "metadata": {},
   "source": [
    "We are displaying recorded values as solid lines and predicted trajectories as dashed lines. Multiple dashed lines exist for different realizations of the uncertain scenarios.\n",
    "\n",
    "The most interesting behavior here can be seen in the state ``T_R``, which has the upper bound:"
   ]
  },
  {
   "cell_type": "code",
   "execution_count": 38,
   "metadata": {},
   "outputs": [
    {
     "data": {
      "text/plain": [
       "DM(375.15)"
      ]
     },
     "execution_count": 38,
     "metadata": {},
     "output_type": "execute_result"
    }
   ],
   "source": [
    "mpc.bounds['upper', '_x', 'T_R']"
   ]
  },
  {
   "cell_type": "markdown",
   "metadata": {},
   "source": [
    "Due to robust control, we are approaching this value but hold a certain distance as some possible trajectories predict a temperature increase. As the reaction finishes we can safely increase the temperature because a rapid temperature change due to uncertainy is impossible."
   ]
  }
 ],
 "metadata": {
  "kernelspec": {
   "display_name": "base",
   "language": "python",
   "name": "python3"
  },
  "language_info": {
   "codemirror_mode": {
    "name": "ipython",
    "version": 3
   },
   "file_extension": ".py",
   "mimetype": "text/x-python",
   "name": "python",
   "nbconvert_exporter": "python",
   "pygments_lexer": "ipython3",
   "version": "3.9.12 (main, Apr  5 2022, 01:53:17) \n[Clang 12.0.0 ]"
  },
  "toc": {
   "base_numbering": 1,
   "nav_menu": {},
   "number_sections": true,
   "sideBar": true,
   "skip_h1_title": false,
   "title_cell": "Table of Contents",
   "title_sidebar": "Contents",
   "toc_cell": false,
   "toc_position": {},
   "toc_section_display": true,
   "toc_window_display": false
  },
  "vscode": {
   "interpreter": {
    "hash": "c30f2af5f468e7f5b45bcc30fca5f4886c90d54777aed916ed5f6294dfb24bf2"
   }
  }
 },
 "nbformat": 4,
 "nbformat_minor": 2
}
