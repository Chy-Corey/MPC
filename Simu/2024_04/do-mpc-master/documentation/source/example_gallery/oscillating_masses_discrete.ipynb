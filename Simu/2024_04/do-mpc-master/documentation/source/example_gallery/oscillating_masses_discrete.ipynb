{
 "cells": [
  {
   "cell_type": "markdown",
   "metadata": {},
   "source": [
    "# Oscillating masses\n",
    "\n",
    "In this Jupyter Notebook we illustrate the example **oscillating_masses_discrete**.\n",
    "\n",
    "**Open an interactive online Jupyter Notebook with this content on Binder:**\n",
    "\n",
    "[![Binder](https://mybinder.org/badge_logo.svg)](https://mybinder.org/v2/gh/do-mpc/do-mpc.git/master?filepath=%2Fdocumentation%2Fsource%2Fexample_gallery%2Foscillating_masses_discrete.ipynb)\n",
    "\n",
    "The example consists of the three modules **template_model.py**, which describes the system model, **template_mpc.py**, which defines the settings for the control and **template_simulator.py**, which sets the parameters for the simulator.\n",
    "The modules are used in **main.py** for the closed-loop execution of the controller.\n",
    "One exemplary result will be presented at the end of this tutorial as a gif.\n",
    "\n",
    "In the following the different parts are presented. But first, we start by importing basic modules and **do-mpc**."
   ]
  },
  {
   "cell_type": "code",
   "execution_count": 1,
   "metadata": {},
   "outputs": [],
   "source": [
    "import numpy as np\n",
    "import sys\n",
    "from casadi import *\n",
    "\n",
    "# Add do_mpc to path. This is not necessary if it was installed via pip\n",
    "import os\n",
    "rel_do_mpc_path = os.path.join('..','..','..')\n",
    "sys.path.append(rel_do_mpc_path)\n",
    "\n",
    "# Import do_mpc package:\n",
    "import do_mpc"
   ]
  },
  {
   "cell_type": "markdown",
   "metadata": {},
   "source": [
    "## Model"
   ]
  },
  {
   "cell_type": "markdown",
   "metadata": {},
   "source": [
    "In the following we will present the configuration, setup and connection between these blocks, starting with the `model`.\n",
    "The considered model are two horizontally oscillating masses interconnected via a spring where each one is connected via a spring to a wall, as shown below:\n",
    "\n",
    "![SegmentLocal](oscillating_masses.png \"segment\")\n",
    "\n",
    "The states of each mass are its position $s_i$ and velocity $v_i$, $i=1,2$.\n",
    "A force $u_1$ can be applied to the right mass.\n",
    "The via first-order hold and a sampling time of 0.5 seconds discretized model $x_{k+1} = A x_k + B u_k$ is given by:\n",
    "\n",
    "$$\n",
    "A = \\begin{bmatrix} 0.763 & 0.460& 0.115& 0.020 \\\\ \n",
    "                    −0.899 & 0.763 & 0.420 & 0.115 \\\\\n",
    "                     0.115 & 0.020 & 0.763 & 0.460 \\\\\n",
    "                     0.420 & 0.115 & −0.899 & 0.763 \\\\ \\end{bmatrix}, \\qquad\n",
    "                     B = \\begin{bmatrix} 0.014 \\\\ 0.063 \\\\ 0.221 \\\\ 0.367 \\\\ \\end{bmatrix},\n",
    "$$\n",
    "\n",
    "where $x = [s_1, v_1, s_2, v_2]^T$ and $u = [u_1]$.\n",
    "\n",
    "The discrete model is initiated by:"
   ]
  },
  {
   "cell_type": "code",
   "execution_count": 2,
   "metadata": {},
   "outputs": [],
   "source": [
    "model_type = 'discrete' # either 'discrete' or 'continuous'\n",
    "model = do_mpc.model.Model(model_type)"
   ]
  },
  {
   "cell_type": "markdown",
   "metadata": {},
   "source": [
    "### States and control inputs\n",
    "\n",
    "The states and the inputs are directly created as vectors:"
   ]
  },
  {
   "cell_type": "code",
   "execution_count": 3,
   "metadata": {},
   "outputs": [],
   "source": [
    "_x = model.set_variable(var_type='_x', var_name='x', shape=(4,1))\n",
    "_u = model.set_variable(var_type='_u', var_name='u', shape=(1,1))"
   ]
  },
  {
   "cell_type": "markdown",
   "metadata": {},
   "source": [
    "Afterwards the discrete-time LTI model is added:"
   ]
  },
  {
   "cell_type": "code",
   "execution_count": 4,
   "metadata": {},
   "outputs": [],
   "source": [
    "A = np.array([[ 0.763,  0.460,  0.115,  0.020],\n",
    "              [-0.899,  0.763,  0.420,  0.115],\n",
    "              [ 0.115,  0.020,  0.763,  0.460],\n",
    "              [ 0.420,  0.115, -0.899,  0.763]])\n",
    "\n",
    "B = np.array([[0.014],\n",
    "              [0.063],\n",
    "              [0.221],\n",
    "              [0.367]])\n",
    "\n",
    "x_next = A@_x + B@_u\n",
    "\n",
    "model.set_rhs('x', x_next)"
   ]
  },
  {
   "cell_type": "markdown",
   "metadata": {},
   "source": [
    "Additionally, we will define an expression, which represents the stage and terminal cost of our control problem.\n",
    "This term will be later used as the cost in the MPC formulation and can be used to directly plot the trajectory of the cost of each state."
   ]
  },
  {
   "cell_type": "code",
   "execution_count": 5,
   "metadata": {},
   "outputs": [
    {
     "data": {
      "text/plain": [
       "SX((((sq(x_0)+sq(x_1))+sq(x_2))+sq(x_3)))"
      ]
     },
     "execution_count": 5,
     "metadata": {},
     "output_type": "execute_result"
    }
   ],
   "source": [
    "model.set_expression(expr_name='cost', expr=sum1(_x**2))"
   ]
  },
  {
   "cell_type": "markdown",
   "metadata": {},
   "source": [
    "The model setup is completed via:"
   ]
  },
  {
   "cell_type": "code",
   "execution_count": 6,
   "metadata": {},
   "outputs": [],
   "source": [
    "# Build the model\n",
    "model.setup()"
   ]
  },
  {
   "cell_type": "markdown",
   "metadata": {},
   "source": [
    "## Controller\n"
   ]
  },
  {
   "cell_type": "markdown",
   "metadata": {},
   "source": [
    "Next, the model predictive controller is configured.\n",
    "First, one member of the mpc class is generated with the prediction model defined above:"
   ]
  },
  {
   "cell_type": "code",
   "execution_count": 7,
   "metadata": {},
   "outputs": [],
   "source": [
    "mpc = do_mpc.controller.MPC(model)"
   ]
  },
  {
   "cell_type": "markdown",
   "metadata": {},
   "source": [
    "We choose the prediction horizon `n_horizon` to 7 and set the robust horizon `n_robust` to zero, because no uncertainties are present. The time step `t_step` is set to 0.5 seconds (like the discretization time step)).\n",
    "There is no need to apply a discretization scheme, because the system is discrete:"
   ]
  },
  {
   "cell_type": "code",
   "execution_count": 8,
   "metadata": {},
   "outputs": [],
   "source": [
    "setup_mpc = {\n",
    "    'n_robust': 0,\n",
    "    'n_horizon': 7,\n",
    "    't_step': 0.5,\n",
    "    'state_discretization': 'discrete',\n",
    "    'store_full_solution':True,\n",
    "    # Use MA27 linear solver in ipopt for faster calculations:\n",
    "    #'nlpsol_opts': {'ipopt.linear_solver': 'MA27'}\n",
    "}\n",
    "\n",
    "mpc.set_param(**setup_mpc)"
   ]
  },
  {
   "cell_type": "markdown",
   "metadata": {},
   "source": [
    "### Objective\n",
    "\n",
    "The goal of the controller is to bring the system to the origin, hence we apply a quadratic cost with weight one to every state and penalty on input changes for a smooth operation.\n",
    "This is here done by using the the cost expression defined in the model:"
   ]
  },
  {
   "cell_type": "code",
   "execution_count": 9,
   "metadata": {},
   "outputs": [],
   "source": [
    "mterm = model.aux['cost'] # terminal cost\n",
    "lterm = model.aux['cost'] # terminal cost\n",
    " # stage cost\n",
    "\n",
    "mpc.set_objective(mterm=mterm, lterm=lterm)\n",
    "\n",
    "mpc.set_rterm(u=1e-4) # input penalty"
   ]
  },
  {
   "cell_type": "markdown",
   "metadata": {},
   "source": [
    "### Constraints\n",
    "\n",
    "In the next step, the constraints of the control problem are set.\n",
    "In this case, there are only upper and lower bounds for each state and the input.\n",
    "The displacement has to fulfill $-4\\text{m} \\leq s_i \\leq 4\\text{m}$, the velocity $-10 \\text{ms}^{-1} \\leq v_i \\leq 10\\text{ms}^{-1}$ and the force cannot exceed $-0.5\\text{N} \\leq u_1 \\leq 0.5\\text{N}$:"
   ]
  },
  {
   "cell_type": "code",
   "execution_count": 10,
   "metadata": {},
   "outputs": [],
   "source": [
    "max_x = np.array([[4.0], [10.0], [4.0], [10.0]])\n",
    "\n",
    "# lower bounds of the states\n",
    "mpc.bounds['lower','_x','x'] = -max_x\n",
    "\n",
    "# upper bounds of the states\n",
    "mpc.bounds['upper','_x','x'] = max_x\n",
    "\n",
    "# lower bounds of the input\n",
    "mpc.bounds['lower','_u','u'] = -0.5\n",
    "\n",
    "# upper bounds of the input\n",
    "mpc.bounds['upper','_u','u'] =  0.5"
   ]
  },
  {
   "cell_type": "markdown",
   "metadata": {},
   "source": [
    "The setup of the MPC controller is concluded by:"
   ]
  },
  {
   "cell_type": "code",
   "execution_count": 11,
   "metadata": {},
   "outputs": [],
   "source": [
    "mpc.setup()"
   ]
  },
  {
   "cell_type": "markdown",
   "metadata": {},
   "source": [
    "## Estimator\n",
    "\n",
    "We assume, that all states can be directly measured (state-feedback):"
   ]
  },
  {
   "cell_type": "code",
   "execution_count": 12,
   "metadata": {},
   "outputs": [],
   "source": [
    "estimator = do_mpc.estimator.StateFeedback(model)"
   ]
  },
  {
   "cell_type": "markdown",
   "metadata": {},
   "source": [
    "## Simulator\n",
    "\n",
    "To create a simulator in order to run the MPC in a closed-loop, we create an instance of the **do-mpc** simulator which is based on the same model:"
   ]
  },
  {
   "cell_type": "code",
   "execution_count": 13,
   "metadata": {},
   "outputs": [],
   "source": [
    "simulator = do_mpc.simulator.Simulator(model)"
   ]
  },
  {
   "cell_type": "markdown",
   "metadata": {},
   "source": [
    "Because the model is discrete, we do not need to specify options for the integration necessary for simulating the system.\n",
    "We only set the time step `t_step` which is identical to the one used for the optimization and finish the setup of the simulator:"
   ]
  },
  {
   "cell_type": "code",
   "execution_count": 14,
   "metadata": {},
   "outputs": [],
   "source": [
    "simulator.set_param(t_step = 0.1)\n",
    "simulator.setup()"
   ]
  },
  {
   "cell_type": "markdown",
   "metadata": {},
   "source": [
    "## Closed-loop simulation\n",
    "\n",
    "For the simulation of the MPC configured for the oscillating masses, we inspect the file **main.py**.\n",
    "We set the initial state of the system (randomly seeded) and set it for all parts of the closed-loop configuration:"
   ]
  },
  {
   "cell_type": "code",
   "execution_count": 15,
   "metadata": {},
   "outputs": [],
   "source": [
    "# Seed\n",
    "np.random.seed(99)\n",
    "\n",
    "# Initial state\n",
    "e = np.ones([model.n_x,1])\n",
    "x0 = np.random.uniform(-3*e,3*e) # Values between +3 and +3 for all states\n",
    "mpc.x0 = x0\n",
    "simulator.x0 = x0\n",
    "estimator.x0 = x0\n",
    "\n",
    "# Use initial state to set the initial guess.\n",
    "mpc.set_initial_guess()"
   ]
  },
  {
   "cell_type": "markdown",
   "metadata": {},
   "source": [
    "Now, we simulate the closed-loop for 50 steps (and suppress the output of the cell with the magic command `%%capture`):"
   ]
  },
  {
   "cell_type": "code",
   "execution_count": 16,
   "metadata": {},
   "outputs": [],
   "source": [
    "%%capture\n",
    "for k in range(50):\n",
    "    u0 = mpc.make_step(x0)\n",
    "    y_next = simulator.make_step(u0)\n",
    "    x0 = estimator.make_step(y_next)"
   ]
  },
  {
   "cell_type": "markdown",
   "metadata": {},
   "source": [
    "## Displaying the results\n",
    "\n",
    "After some slight configuration of matplotlib:"
   ]
  },
  {
   "cell_type": "code",
   "execution_count": 17,
   "metadata": {},
   "outputs": [],
   "source": [
    "from matplotlib import rcParams\n",
    "rcParams['axes.grid'] = True\n",
    "rcParams['font.size'] = 18"
   ]
  },
  {
   "cell_type": "markdown",
   "metadata": {},
   "source": [
    "We use the convenient ``default_plot`` function of the ``graphics`` module, to obtain the graphic below."
   ]
  },
  {
   "cell_type": "code",
   "execution_count": 18,
   "metadata": {},
   "outputs": [
    {
     "data": {
      "image/png": "[encoded data removed]",
      "text/plain": [
       "<Figure size 1152x648 with 3 Axes>"
      ]
     },
     "metadata": {
      "needs_background": "light"
     },
     "output_type": "display_data"
    }
   ],
   "source": [
    "import matplotlib.pyplot as plt\n",
    "fig, ax, graphics = do_mpc.graphics.default_plot(mpc.data, figsize=(16,9))\n",
    "graphics.plot_results()\n",
    "graphics.reset_axes()\n",
    "plt.show()"
   ]
  },
  {
   "cell_type": "markdown",
   "metadata": {},
   "source": [
    "We can see that the control objective was sucessfully fulfilled and that bounds, e.g. for the control inputs are satisfied. "
   ]
  }
 ],
 "metadata": {
  "kernelspec": {
   "display_name": "base",
   "language": "python",
   "name": "python3"
  },
  "language_info": {
   "codemirror_mode": {
    "name": "ipython",
    "version": 3
   },
   "file_extension": ".py",
   "mimetype": "text/x-python",
   "name": "python",
   "nbconvert_exporter": "python",
   "pygments_lexer": "ipython3",
   "version": "3.9.12 (main, Apr  5 2022, 01:53:17) \n[Clang 12.0.0 ]"
  },
  "toc": {
   "base_numbering": 1,
   "nav_menu": {},
   "number_sections": true,
   "sideBar": true,
   "skip_h1_title": false,
   "title_cell": "Table of Contents",
   "title_sidebar": "Contents",
   "toc_cell": false,
   "toc_position": {},
   "toc_section_display": true,
   "toc_window_display": false
  },
  "vscode": {
   "interpreter": {
    "hash": "c30f2af5f468e7f5b45bcc30fca5f4886c90d54777aed916ed5f6294dfb24bf2"
   }
  }
 },
 "nbformat": 4,
 "nbformat_minor": 2
}
